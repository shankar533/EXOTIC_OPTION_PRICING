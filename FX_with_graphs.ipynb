{
 "cells": [
  {
   "cell_type": "code",
   "execution_count": 1,
   "id": "9260c634",
   "metadata": {
    "id": "9260c634"
   },
   "outputs": [],
   "source": [
    "import scipy.stats as ss\n",
    "import numpy as np"
   ]
  },
  {
   "cell_type": "code",
   "execution_count": 2,
   "id": "2b3fac8c",
   "metadata": {
    "id": "2b3fac8c"
   },
   "outputs": [],
   "source": [
    "import pandas as pd\n",
    "import numpy as np\n",
    "from scipy.optimize import minimize\n",
    "from scipy.optimize import root\n",
    "import matplotlib.pyplot as plt\n",
    "from scipy.stats import norm, lognorm\n",
    "from tqdm import tqdm"
   ]
  },
  {
   "cell_type": "markdown",
   "id": "100b38d6",
   "metadata": {
    "id": "100b38d6"
   },
   "source": [
    "## Loading the Data:"
   ]
  },
  {
   "cell_type": "code",
   "execution_count": 3,
   "id": "2d65f8b8",
   "metadata": {
    "id": "2d65f8b8"
   },
   "outputs": [],
   "source": [
    "start_date = '2019-01-01'\n",
    "end_date = '2024-03-30'\n",
    "\n",
    "# Filter the DataFrame\n",
    "#filtered_df = df[(df['Date'] >= start_date) & (df['Date'] <= end_date)]"
   ]
  },
  {
   "cell_type": "code",
   "execution_count": 4,
   "id": "22d55f64",
   "metadata": {
    "colab": {
     "base_uri": "https://localhost:8080/",
     "height": 424
    },
    "id": "22d55f64",
    "outputId": "af2f64cd-d9c8-4e8b-f95f-1a40dd9280a6"
   },
   "outputs": [
    {
     "data": {
      "text/html": [
       "<div>\n",
       "<style scoped>\n",
       "    .dataframe tbody tr th:only-of-type {\n",
       "        vertical-align: middle;\n",
       "    }\n",
       "\n",
       "    .dataframe tbody tr th {\n",
       "        vertical-align: top;\n",
       "    }\n",
       "\n",
       "    .dataframe thead th {\n",
       "        text-align: right;\n",
       "    }\n",
       "</style>\n",
       "<table border=\"1\" class=\"dataframe\">\n",
       "  <thead>\n",
       "    <tr style=\"text-align: right;\">\n",
       "      <th></th>\n",
       "      <th>observation_date</th>\n",
       "      <th>DEXJPUS</th>\n",
       "    </tr>\n",
       "  </thead>\n",
       "  <tbody>\n",
       "    <tr>\n",
       "      <th>0</th>\n",
       "      <td>1999-01-04</td>\n",
       "      <td>112.15</td>\n",
       "    </tr>\n",
       "    <tr>\n",
       "      <th>1</th>\n",
       "      <td>1999-01-05</td>\n",
       "      <td>111.15</td>\n",
       "    </tr>\n",
       "    <tr>\n",
       "      <th>2</th>\n",
       "      <td>1999-01-06</td>\n",
       "      <td>112.78</td>\n",
       "    </tr>\n",
       "    <tr>\n",
       "      <th>3</th>\n",
       "      <td>1999-01-07</td>\n",
       "      <td>111.69</td>\n",
       "    </tr>\n",
       "    <tr>\n",
       "      <th>4</th>\n",
       "      <td>1999-01-08</td>\n",
       "      <td>111.52</td>\n",
       "    </tr>\n",
       "    <tr>\n",
       "      <th>...</th>\n",
       "      <td>...</td>\n",
       "      <td>...</td>\n",
       "    </tr>\n",
       "    <tr>\n",
       "      <th>6585</th>\n",
       "      <td>2024-04-01</td>\n",
       "      <td>151.72</td>\n",
       "    </tr>\n",
       "    <tr>\n",
       "      <th>6586</th>\n",
       "      <td>2024-04-02</td>\n",
       "      <td>151.55</td>\n",
       "    </tr>\n",
       "    <tr>\n",
       "      <th>6587</th>\n",
       "      <td>2024-04-03</td>\n",
       "      <td>151.67</td>\n",
       "    </tr>\n",
       "    <tr>\n",
       "      <th>6588</th>\n",
       "      <td>2024-04-04</td>\n",
       "      <td>151.66</td>\n",
       "    </tr>\n",
       "    <tr>\n",
       "      <th>6589</th>\n",
       "      <td>2024-04-05</td>\n",
       "      <td>151.59</td>\n",
       "    </tr>\n",
       "  </tbody>\n",
       "</table>\n",
       "<p>6590 rows × 2 columns</p>\n",
       "</div>"
      ],
      "text/plain": [
       "     observation_date  DEXJPUS\n",
       "0          1999-01-04   112.15\n",
       "1          1999-01-05   111.15\n",
       "2          1999-01-06   112.78\n",
       "3          1999-01-07   111.69\n",
       "4          1999-01-08   111.52\n",
       "...               ...      ...\n",
       "6585       2024-04-01   151.72\n",
       "6586       2024-04-02   151.55\n",
       "6587       2024-04-03   151.67\n",
       "6588       2024-04-04   151.66\n",
       "6589       2024-04-05   151.59\n",
       "\n",
       "[6590 rows x 2 columns]"
      ]
     },
     "execution_count": 4,
     "metadata": {},
     "output_type": "execute_result"
    }
   ],
   "source": [
    "fx_data_raw = pd.read_excel(\"Yen-to-USD.xlsx\")\n",
    "fx_data_raw"
   ]
  },
  {
   "cell_type": "code",
   "execution_count": 5,
   "id": "d5f9bc42",
   "metadata": {
    "colab": {
     "base_uri": "https://localhost:8080/",
     "height": 424
    },
    "id": "d5f9bc42",
    "outputId": "998f8a9e-d24b-4de3-d3c7-72eee1d032ec"
   },
   "outputs": [
    {
     "data": {
      "text/html": [
       "<div>\n",
       "<style scoped>\n",
       "    .dataframe tbody tr th:only-of-type {\n",
       "        vertical-align: middle;\n",
       "    }\n",
       "\n",
       "    .dataframe tbody tr th {\n",
       "        vertical-align: top;\n",
       "    }\n",
       "\n",
       "    .dataframe thead th {\n",
       "        text-align: right;\n",
       "    }\n",
       "</style>\n",
       "<table border=\"1\" class=\"dataframe\">\n",
       "  <thead>\n",
       "    <tr style=\"text-align: right;\">\n",
       "      <th></th>\n",
       "      <th>DATE</th>\n",
       "      <th>DTB3</th>\n",
       "    </tr>\n",
       "  </thead>\n",
       "  <tbody>\n",
       "    <tr>\n",
       "      <th>0</th>\n",
       "      <td>2018-01-02</td>\n",
       "      <td>1.42</td>\n",
       "    </tr>\n",
       "    <tr>\n",
       "      <th>1</th>\n",
       "      <td>2018-01-03</td>\n",
       "      <td>1.39</td>\n",
       "    </tr>\n",
       "    <tr>\n",
       "      <th>2</th>\n",
       "      <td>2018-01-04</td>\n",
       "      <td>1.39</td>\n",
       "    </tr>\n",
       "    <tr>\n",
       "      <th>3</th>\n",
       "      <td>2018-01-05</td>\n",
       "      <td>1.37</td>\n",
       "    </tr>\n",
       "    <tr>\n",
       "      <th>4</th>\n",
       "      <td>2018-01-08</td>\n",
       "      <td>1.43</td>\n",
       "    </tr>\n",
       "    <tr>\n",
       "      <th>...</th>\n",
       "      <td>...</td>\n",
       "      <td>...</td>\n",
       "    </tr>\n",
       "    <tr>\n",
       "      <th>1629</th>\n",
       "      <td>2024-04-01</td>\n",
       "      <td>5.23</td>\n",
       "    </tr>\n",
       "    <tr>\n",
       "      <th>1630</th>\n",
       "      <td>2024-04-02</td>\n",
       "      <td>5.22</td>\n",
       "    </tr>\n",
       "    <tr>\n",
       "      <th>1631</th>\n",
       "      <td>2024-04-03</td>\n",
       "      <td>5.22</td>\n",
       "    </tr>\n",
       "    <tr>\n",
       "      <th>1632</th>\n",
       "      <td>2024-04-04</td>\n",
       "      <td>5.21</td>\n",
       "    </tr>\n",
       "    <tr>\n",
       "      <th>1633</th>\n",
       "      <td>2024-04-05</td>\n",
       "      <td>5.23</td>\n",
       "    </tr>\n",
       "  </tbody>\n",
       "</table>\n",
       "<p>1634 rows × 2 columns</p>\n",
       "</div>"
      ],
      "text/plain": [
       "            DATE  DTB3\n",
       "0     2018-01-02  1.42\n",
       "1     2018-01-03  1.39\n",
       "2     2018-01-04  1.39\n",
       "3     2018-01-05  1.37\n",
       "4     2018-01-08  1.43\n",
       "...          ...   ...\n",
       "1629  2024-04-01  5.23\n",
       "1630  2024-04-02  5.22\n",
       "1631  2024-04-03  5.22\n",
       "1632  2024-04-04  5.21\n",
       "1633  2024-04-05  5.23\n",
       "\n",
       "[1634 rows x 2 columns]"
      ]
     },
     "execution_count": 5,
     "metadata": {},
     "output_type": "execute_result"
    }
   ],
   "source": [
    "us_3months_treasury= pd.read_csv('US 3 month treasury.csv')\n",
    "us_3months_treasury"
   ]
  },
  {
   "cell_type": "code",
   "execution_count": 6,
   "id": "296987f7",
   "metadata": {
    "colab": {
     "base_uri": "https://localhost:8080/",
     "height": 424
    },
    "id": "296987f7",
    "outputId": "a3a4df5d-e05d-457c-a633-c88d2e588b07"
   },
   "outputs": [
    {
     "data": {
      "text/html": [
       "<div>\n",
       "<style scoped>\n",
       "    .dataframe tbody tr th:only-of-type {\n",
       "        vertical-align: middle;\n",
       "    }\n",
       "\n",
       "    .dataframe tbody tr th {\n",
       "        vertical-align: top;\n",
       "    }\n",
       "\n",
       "    .dataframe thead th {\n",
       "        text-align: right;\n",
       "    }\n",
       "</style>\n",
       "<table border=\"1\" class=\"dataframe\">\n",
       "  <thead>\n",
       "    <tr style=\"text-align: right;\">\n",
       "      <th></th>\n",
       "      <th>DATE</th>\n",
       "      <th>DGS1</th>\n",
       "    </tr>\n",
       "  </thead>\n",
       "  <tbody>\n",
       "    <tr>\n",
       "      <th>0</th>\n",
       "      <td>2018-01-02</td>\n",
       "      <td>1.83</td>\n",
       "    </tr>\n",
       "    <tr>\n",
       "      <th>1</th>\n",
       "      <td>2018-01-03</td>\n",
       "      <td>1.81</td>\n",
       "    </tr>\n",
       "    <tr>\n",
       "      <th>2</th>\n",
       "      <td>2018-01-04</td>\n",
       "      <td>1.82</td>\n",
       "    </tr>\n",
       "    <tr>\n",
       "      <th>3</th>\n",
       "      <td>2018-01-05</td>\n",
       "      <td>1.80</td>\n",
       "    </tr>\n",
       "    <tr>\n",
       "      <th>4</th>\n",
       "      <td>2018-01-08</td>\n",
       "      <td>1.79</td>\n",
       "    </tr>\n",
       "    <tr>\n",
       "      <th>...</th>\n",
       "      <td>...</td>\n",
       "      <td>...</td>\n",
       "    </tr>\n",
       "    <tr>\n",
       "      <th>1629</th>\n",
       "      <td>2024-04-01</td>\n",
       "      <td>5.06</td>\n",
       "    </tr>\n",
       "    <tr>\n",
       "      <th>1630</th>\n",
       "      <td>2024-04-02</td>\n",
       "      <td>5.05</td>\n",
       "    </tr>\n",
       "    <tr>\n",
       "      <th>1631</th>\n",
       "      <td>2024-04-03</td>\n",
       "      <td>5.03</td>\n",
       "    </tr>\n",
       "    <tr>\n",
       "      <th>1632</th>\n",
       "      <td>2024-04-04</td>\n",
       "      <td>5.0</td>\n",
       "    </tr>\n",
       "    <tr>\n",
       "      <th>1633</th>\n",
       "      <td>2024-04-05</td>\n",
       "      <td>5.05</td>\n",
       "    </tr>\n",
       "  </tbody>\n",
       "</table>\n",
       "<p>1634 rows × 2 columns</p>\n",
       "</div>"
      ],
      "text/plain": [
       "            DATE  DGS1\n",
       "0     2018-01-02  1.83\n",
       "1     2018-01-03  1.81\n",
       "2     2018-01-04  1.82\n",
       "3     2018-01-05  1.80\n",
       "4     2018-01-08  1.79\n",
       "...          ...   ...\n",
       "1629  2024-04-01  5.06\n",
       "1630  2024-04-02  5.05\n",
       "1631  2024-04-03  5.03\n",
       "1632  2024-04-04   5.0\n",
       "1633  2024-04-05  5.05\n",
       "\n",
       "[1634 rows x 2 columns]"
      ]
     },
     "execution_count": 6,
     "metadata": {},
     "output_type": "execute_result"
    }
   ],
   "source": [
    "us_1year_treasury= pd.read_csv('US 1 year treasury rate.csv')\n",
    "us_1year_treasury"
   ]
  },
  {
   "cell_type": "code",
   "execution_count": 7,
   "id": "02e69d3d",
   "metadata": {
    "colab": {
     "base_uri": "https://localhost:8080/",
     "height": 424
    },
    "id": "02e69d3d",
    "outputId": "d283b598-5430-4943-8ec5-51197651094c"
   },
   "outputs": [
    {
     "data": {
      "text/html": [
       "<div>\n",
       "<style scoped>\n",
       "    .dataframe tbody tr th:only-of-type {\n",
       "        vertical-align: middle;\n",
       "    }\n",
       "\n",
       "    .dataframe tbody tr th {\n",
       "        vertical-align: top;\n",
       "    }\n",
       "\n",
       "    .dataframe thead th {\n",
       "        text-align: right;\n",
       "    }\n",
       "</style>\n",
       "<table border=\"1\" class=\"dataframe\">\n",
       "  <thead>\n",
       "    <tr style=\"text-align: right;\">\n",
       "      <th></th>\n",
       "      <th>DATE</th>\n",
       "      <th>DGS10</th>\n",
       "    </tr>\n",
       "  </thead>\n",
       "  <tbody>\n",
       "    <tr>\n",
       "      <th>0</th>\n",
       "      <td>1999-01-04</td>\n",
       "      <td>4.69</td>\n",
       "    </tr>\n",
       "    <tr>\n",
       "      <th>1</th>\n",
       "      <td>1999-01-05</td>\n",
       "      <td>4.74</td>\n",
       "    </tr>\n",
       "    <tr>\n",
       "      <th>2</th>\n",
       "      <td>1999-01-06</td>\n",
       "      <td>4.73</td>\n",
       "    </tr>\n",
       "    <tr>\n",
       "      <th>3</th>\n",
       "      <td>1999-01-07</td>\n",
       "      <td>4.77</td>\n",
       "    </tr>\n",
       "    <tr>\n",
       "      <th>4</th>\n",
       "      <td>1999-01-08</td>\n",
       "      <td>4.86</td>\n",
       "    </tr>\n",
       "    <tr>\n",
       "      <th>...</th>\n",
       "      <td>...</td>\n",
       "      <td>...</td>\n",
       "    </tr>\n",
       "    <tr>\n",
       "      <th>6588</th>\n",
       "      <td>2024-04-04</td>\n",
       "      <td>4.31</td>\n",
       "    </tr>\n",
       "    <tr>\n",
       "      <th>6589</th>\n",
       "      <td>2024-04-05</td>\n",
       "      <td>4.39</td>\n",
       "    </tr>\n",
       "    <tr>\n",
       "      <th>6590</th>\n",
       "      <td>2024-04-08</td>\n",
       "      <td>4.42</td>\n",
       "    </tr>\n",
       "    <tr>\n",
       "      <th>6591</th>\n",
       "      <td>2024-04-09</td>\n",
       "      <td>4.36</td>\n",
       "    </tr>\n",
       "    <tr>\n",
       "      <th>6592</th>\n",
       "      <td>2024-04-10</td>\n",
       "      <td>4.55</td>\n",
       "    </tr>\n",
       "  </tbody>\n",
       "</table>\n",
       "<p>6593 rows × 2 columns</p>\n",
       "</div>"
      ],
      "text/plain": [
       "            DATE DGS10\n",
       "0     1999-01-04  4.69\n",
       "1     1999-01-05  4.74\n",
       "2     1999-01-06  4.73\n",
       "3     1999-01-07  4.77\n",
       "4     1999-01-08  4.86\n",
       "...          ...   ...\n",
       "6588  2024-04-04  4.31\n",
       "6589  2024-04-05  4.39\n",
       "6590  2024-04-08  4.42\n",
       "6591  2024-04-09  4.36\n",
       "6592  2024-04-10  4.55\n",
       "\n",
       "[6593 rows x 2 columns]"
      ]
     },
     "execution_count": 7,
     "metadata": {},
     "output_type": "execute_result"
    }
   ],
   "source": [
    "us_rates = pd.read_csv('US 10yr rates.csv')\n",
    "us_rates"
   ]
  },
  {
   "cell_type": "code",
   "execution_count": 8,
   "id": "eb96dcd8",
   "metadata": {
    "colab": {
     "base_uri": "https://localhost:8080/",
     "height": 424
    },
    "id": "eb96dcd8",
    "outputId": "739b4992-06d1-4ee8-f832-a5a1884ac39b"
   },
   "outputs": [
    {
     "data": {
      "text/html": [
       "<div>\n",
       "<style scoped>\n",
       "    .dataframe tbody tr th:only-of-type {\n",
       "        vertical-align: middle;\n",
       "    }\n",
       "\n",
       "    .dataframe tbody tr th {\n",
       "        vertical-align: top;\n",
       "    }\n",
       "\n",
       "    .dataframe thead th {\n",
       "        text-align: right;\n",
       "    }\n",
       "</style>\n",
       "<table border=\"1\" class=\"dataframe\">\n",
       "  <thead>\n",
       "    <tr style=\"text-align: right;\">\n",
       "      <th></th>\n",
       "      <th>Date</th>\n",
       "      <th>1Y</th>\n",
       "      <th>2Y</th>\n",
       "      <th>3Y</th>\n",
       "      <th>4Y</th>\n",
       "      <th>5Y</th>\n",
       "      <th>6Y</th>\n",
       "      <th>7Y</th>\n",
       "      <th>8Y</th>\n",
       "      <th>9Y</th>\n",
       "      <th>10Y</th>\n",
       "      <th>15Y</th>\n",
       "      <th>20Y</th>\n",
       "      <th>25Y</th>\n",
       "      <th>30Y</th>\n",
       "      <th>40Y</th>\n",
       "    </tr>\n",
       "  </thead>\n",
       "  <tbody>\n",
       "    <tr>\n",
       "      <th>0</th>\n",
       "      <td>1999-01-04</td>\n",
       "      <td>0.567</td>\n",
       "      <td>0.790</td>\n",
       "      <td>1.067</td>\n",
       "      <td>1.300</td>\n",
       "      <td>1.498</td>\n",
       "      <td>1.703</td>\n",
       "      <td>1.861</td>\n",
       "      <td>1.939</td>\n",
       "      <td>1.971</td>\n",
       "      <td>2.093</td>\n",
       "      <td>2.607</td>\n",
       "      <td>2.684</td>\n",
       "      <td>-</td>\n",
       "      <td>-</td>\n",
       "      <td>-</td>\n",
       "    </tr>\n",
       "    <tr>\n",
       "      <th>1</th>\n",
       "      <td>1999-01-05</td>\n",
       "      <td>0.548</td>\n",
       "      <td>0.758</td>\n",
       "      <td>1.025</td>\n",
       "      <td>1.255</td>\n",
       "      <td>1.448</td>\n",
       "      <td>1.646</td>\n",
       "      <td>1.802</td>\n",
       "      <td>1.881</td>\n",
       "      <td>1.919</td>\n",
       "      <td>2.040</td>\n",
       "      <td>2.550</td>\n",
       "      <td>2.643</td>\n",
       "      <td>-</td>\n",
       "      <td>-</td>\n",
       "      <td>-</td>\n",
       "    </tr>\n",
       "    <tr>\n",
       "      <th>2</th>\n",
       "      <td>1999-01-06</td>\n",
       "      <td>0.519</td>\n",
       "      <td>0.716</td>\n",
       "      <td>0.951</td>\n",
       "      <td>1.176</td>\n",
       "      <td>1.361</td>\n",
       "      <td>1.544</td>\n",
       "      <td>1.710</td>\n",
       "      <td>1.797</td>\n",
       "      <td>1.839</td>\n",
       "      <td>1.965</td>\n",
       "      <td>2.460</td>\n",
       "      <td>2.569</td>\n",
       "      <td>-</td>\n",
       "      <td>-</td>\n",
       "      <td>-</td>\n",
       "    </tr>\n",
       "    <tr>\n",
       "      <th>3</th>\n",
       "      <td>1999-01-07</td>\n",
       "      <td>0.469</td>\n",
       "      <td>0.633</td>\n",
       "      <td>0.817</td>\n",
       "      <td>1.022</td>\n",
       "      <td>1.193</td>\n",
       "      <td>1.358</td>\n",
       "      <td>1.520</td>\n",
       "      <td>1.615</td>\n",
       "      <td>1.664</td>\n",
       "      <td>1.803</td>\n",
       "      <td>2.268</td>\n",
       "      <td>2.410</td>\n",
       "      <td>-</td>\n",
       "      <td>-</td>\n",
       "      <td>-</td>\n",
       "    </tr>\n",
       "    <tr>\n",
       "      <th>4</th>\n",
       "      <td>1999-01-08</td>\n",
       "      <td>0.516</td>\n",
       "      <td>0.708</td>\n",
       "      <td>0.925</td>\n",
       "      <td>1.151</td>\n",
       "      <td>1.340</td>\n",
       "      <td>1.525</td>\n",
       "      <td>1.694</td>\n",
       "      <td>1.787</td>\n",
       "      <td>1.820</td>\n",
       "      <td>1.940</td>\n",
       "      <td>2.419</td>\n",
       "      <td>2.515</td>\n",
       "      <td>-</td>\n",
       "      <td>-</td>\n",
       "      <td>-</td>\n",
       "    </tr>\n",
       "    <tr>\n",
       "      <th>...</th>\n",
       "      <td>...</td>\n",
       "      <td>...</td>\n",
       "      <td>...</td>\n",
       "      <td>...</td>\n",
       "      <td>...</td>\n",
       "      <td>...</td>\n",
       "      <td>...</td>\n",
       "      <td>...</td>\n",
       "      <td>...</td>\n",
       "      <td>...</td>\n",
       "      <td>...</td>\n",
       "      <td>...</td>\n",
       "      <td>...</td>\n",
       "      <td>...</td>\n",
       "      <td>...</td>\n",
       "      <td>...</td>\n",
       "    </tr>\n",
       "    <tr>\n",
       "      <th>6182</th>\n",
       "      <td>2024-03-25</td>\n",
       "      <td>0.063</td>\n",
       "      <td>0.206</td>\n",
       "      <td>0.221</td>\n",
       "      <td>0.307</td>\n",
       "      <td>0.401</td>\n",
       "      <td>0.417</td>\n",
       "      <td>0.486</td>\n",
       "      <td>0.573</td>\n",
       "      <td>0.653</td>\n",
       "      <td>0.752</td>\n",
       "      <td>1.163</td>\n",
       "      <td>1.493</td>\n",
       "      <td>1.664</td>\n",
       "      <td>1.796</td>\n",
       "      <td>1.944</td>\n",
       "    </tr>\n",
       "    <tr>\n",
       "      <th>6183</th>\n",
       "      <td>2024-03-26</td>\n",
       "      <td>0.063</td>\n",
       "      <td>0.207</td>\n",
       "      <td>0.221</td>\n",
       "      <td>0.302</td>\n",
       "      <td>0.396</td>\n",
       "      <td>0.418</td>\n",
       "      <td>0.491</td>\n",
       "      <td>0.577</td>\n",
       "      <td>0.657</td>\n",
       "      <td>0.757</td>\n",
       "      <td>1.168</td>\n",
       "      <td>1.497</td>\n",
       "      <td>1.662</td>\n",
       "      <td>1.791</td>\n",
       "      <td>1.94</td>\n",
       "    </tr>\n",
       "    <tr>\n",
       "      <th>6184</th>\n",
       "      <td>2024-03-27</td>\n",
       "      <td>0.055</td>\n",
       "      <td>0.204</td>\n",
       "      <td>0.211</td>\n",
       "      <td>0.287</td>\n",
       "      <td>0.384</td>\n",
       "      <td>0.404</td>\n",
       "      <td>0.472</td>\n",
       "      <td>0.556</td>\n",
       "      <td>0.638</td>\n",
       "      <td>0.738</td>\n",
       "      <td>1.145</td>\n",
       "      <td>1.472</td>\n",
       "      <td>1.632</td>\n",
       "      <td>1.763</td>\n",
       "      <td>1.921</td>\n",
       "    </tr>\n",
       "    <tr>\n",
       "      <th>6185</th>\n",
       "      <td>2024-03-28</td>\n",
       "      <td>0.054</td>\n",
       "      <td>0.196</td>\n",
       "      <td>0.205</td>\n",
       "      <td>0.277</td>\n",
       "      <td>0.368</td>\n",
       "      <td>0.389</td>\n",
       "      <td>0.457</td>\n",
       "      <td>0.541</td>\n",
       "      <td>0.624</td>\n",
       "      <td>0.730</td>\n",
       "      <td>1.124</td>\n",
       "      <td>1.458</td>\n",
       "      <td>1.617</td>\n",
       "      <td>1.75</td>\n",
       "      <td>1.904</td>\n",
       "    </tr>\n",
       "    <tr>\n",
       "      <th>6186</th>\n",
       "      <td>2024-03-29</td>\n",
       "      <td>0.054</td>\n",
       "      <td>0.189</td>\n",
       "      <td>0.202</td>\n",
       "      <td>0.277</td>\n",
       "      <td>0.372</td>\n",
       "      <td>0.394</td>\n",
       "      <td>0.473</td>\n",
       "      <td>0.559</td>\n",
       "      <td>0.644</td>\n",
       "      <td>0.750</td>\n",
       "      <td>1.150</td>\n",
       "      <td>1.484</td>\n",
       "      <td>1.654</td>\n",
       "      <td>1.789</td>\n",
       "      <td>1.939</td>\n",
       "    </tr>\n",
       "  </tbody>\n",
       "</table>\n",
       "<p>6187 rows × 16 columns</p>\n",
       "</div>"
      ],
      "text/plain": [
       "            Date     1Y     2Y     3Y     4Y     5Y     6Y     7Y     8Y  \\\n",
       "0     1999-01-04  0.567  0.790  1.067  1.300  1.498  1.703  1.861  1.939   \n",
       "1     1999-01-05  0.548  0.758  1.025  1.255  1.448  1.646  1.802  1.881   \n",
       "2     1999-01-06  0.519  0.716  0.951  1.176  1.361  1.544  1.710  1.797   \n",
       "3     1999-01-07  0.469  0.633  0.817  1.022  1.193  1.358  1.520  1.615   \n",
       "4     1999-01-08  0.516  0.708  0.925  1.151  1.340  1.525  1.694  1.787   \n",
       "...          ...    ...    ...    ...    ...    ...    ...    ...    ...   \n",
       "6182  2024-03-25  0.063  0.206  0.221  0.307  0.401  0.417  0.486  0.573   \n",
       "6183  2024-03-26  0.063  0.207  0.221  0.302  0.396  0.418  0.491  0.577   \n",
       "6184  2024-03-27  0.055  0.204  0.211  0.287  0.384  0.404  0.472  0.556   \n",
       "6185  2024-03-28  0.054  0.196  0.205  0.277  0.368  0.389  0.457  0.541   \n",
       "6186  2024-03-29  0.054  0.189  0.202  0.277  0.372  0.394  0.473  0.559   \n",
       "\n",
       "         9Y    10Y    15Y    20Y    25Y    30Y    40Y  \n",
       "0     1.971  2.093  2.607  2.684      -      -      -  \n",
       "1     1.919  2.040  2.550  2.643      -      -      -  \n",
       "2     1.839  1.965  2.460  2.569      -      -      -  \n",
       "3     1.664  1.803  2.268  2.410      -      -      -  \n",
       "4     1.820  1.940  2.419  2.515      -      -      -  \n",
       "...     ...    ...    ...    ...    ...    ...    ...  \n",
       "6182  0.653  0.752  1.163  1.493  1.664  1.796  1.944  \n",
       "6183  0.657  0.757  1.168  1.497  1.662  1.791   1.94  \n",
       "6184  0.638  0.738  1.145  1.472  1.632  1.763  1.921  \n",
       "6185  0.624  0.730  1.124  1.458  1.617   1.75  1.904  \n",
       "6186  0.644  0.750  1.150  1.484  1.654  1.789  1.939  \n",
       "\n",
       "[6187 rows x 16 columns]"
      ]
     },
     "execution_count": 8,
     "metadata": {},
     "output_type": "execute_result"
    }
   ],
   "source": [
    "japan_rates = pd.read_csv(\"Japan Rates Master File.csv\")\n",
    "japan_rates"
   ]
  },
  {
   "cell_type": "markdown",
   "id": "32690a6f",
   "metadata": {
    "id": "32690a6f"
   },
   "source": [
    "#### Function for setting date as Index:"
   ]
  },
  {
   "cell_type": "code",
   "execution_count": 9,
   "id": "c8477e62",
   "metadata": {
    "id": "c8477e62"
   },
   "outputs": [],
   "source": [
    "def index(df,col_name):\n",
    "    df[col_name] = pd.to_datetime(df[col_name])\n",
    "    df.set_index(col_name, inplace=True)\n",
    "    df.index = pd.to_datetime(df.index)\n",
    "    return df"
   ]
  },
  {
   "cell_type": "code",
   "execution_count": 10,
   "id": "4484ebc8",
   "metadata": {
    "colab": {
     "base_uri": "https://localhost:8080/",
     "height": 454
    },
    "id": "4484ebc8",
    "outputId": "47b95a0d-ceae-46b4-a8f0-70849f9378cf"
   },
   "outputs": [
    {
     "data": {
      "text/html": [
       "<div>\n",
       "<style scoped>\n",
       "    .dataframe tbody tr th:only-of-type {\n",
       "        vertical-align: middle;\n",
       "    }\n",
       "\n",
       "    .dataframe tbody tr th {\n",
       "        vertical-align: top;\n",
       "    }\n",
       "\n",
       "    .dataframe thead th {\n",
       "        text-align: right;\n",
       "    }\n",
       "</style>\n",
       "<table border=\"1\" class=\"dataframe\">\n",
       "  <thead>\n",
       "    <tr style=\"text-align: right;\">\n",
       "      <th></th>\n",
       "      <th>DEXJPUS</th>\n",
       "    </tr>\n",
       "    <tr>\n",
       "      <th>observation_date</th>\n",
       "      <th></th>\n",
       "    </tr>\n",
       "  </thead>\n",
       "  <tbody>\n",
       "    <tr>\n",
       "      <th>1999-01-04</th>\n",
       "      <td>112.15</td>\n",
       "    </tr>\n",
       "    <tr>\n",
       "      <th>1999-01-05</th>\n",
       "      <td>111.15</td>\n",
       "    </tr>\n",
       "    <tr>\n",
       "      <th>1999-01-06</th>\n",
       "      <td>112.78</td>\n",
       "    </tr>\n",
       "    <tr>\n",
       "      <th>1999-01-07</th>\n",
       "      <td>111.69</td>\n",
       "    </tr>\n",
       "    <tr>\n",
       "      <th>1999-01-08</th>\n",
       "      <td>111.52</td>\n",
       "    </tr>\n",
       "    <tr>\n",
       "      <th>...</th>\n",
       "      <td>...</td>\n",
       "    </tr>\n",
       "    <tr>\n",
       "      <th>2024-04-01</th>\n",
       "      <td>151.72</td>\n",
       "    </tr>\n",
       "    <tr>\n",
       "      <th>2024-04-02</th>\n",
       "      <td>151.55</td>\n",
       "    </tr>\n",
       "    <tr>\n",
       "      <th>2024-04-03</th>\n",
       "      <td>151.67</td>\n",
       "    </tr>\n",
       "    <tr>\n",
       "      <th>2024-04-04</th>\n",
       "      <td>151.66</td>\n",
       "    </tr>\n",
       "    <tr>\n",
       "      <th>2024-04-05</th>\n",
       "      <td>151.59</td>\n",
       "    </tr>\n",
       "  </tbody>\n",
       "</table>\n",
       "<p>6590 rows × 1 columns</p>\n",
       "</div>"
      ],
      "text/plain": [
       "                  DEXJPUS\n",
       "observation_date         \n",
       "1999-01-04         112.15\n",
       "1999-01-05         111.15\n",
       "1999-01-06         112.78\n",
       "1999-01-07         111.69\n",
       "1999-01-08         111.52\n",
       "...                   ...\n",
       "2024-04-01         151.72\n",
       "2024-04-02         151.55\n",
       "2024-04-03         151.67\n",
       "2024-04-04         151.66\n",
       "2024-04-05         151.59\n",
       "\n",
       "[6590 rows x 1 columns]"
      ]
     },
     "execution_count": 10,
     "metadata": {},
     "output_type": "execute_result"
    }
   ],
   "source": [
    "fx_data_raw = index(fx_data_raw,'observation_date')\n",
    "fx_data_raw"
   ]
  },
  {
   "cell_type": "code",
   "execution_count": 11,
   "id": "482cd448",
   "metadata": {
    "colab": {
     "base_uri": "https://localhost:8080/"
    },
    "id": "482cd448",
    "outputId": "d2315b61-73dc-490b-9392-6aa2c99eb359"
   },
   "outputs": [
    {
     "data": {
      "text/plain": [
       "DEXJPUS    254\n",
       "dtype: int64"
      ]
     },
     "execution_count": 11,
     "metadata": {},
     "output_type": "execute_result"
    }
   ],
   "source": [
    "nan_counts = fx_data_raw.isna().sum()\n",
    "nan_counts"
   ]
  },
  {
   "cell_type": "code",
   "execution_count": 12,
   "id": "38698fa1",
   "metadata": {
    "colab": {
     "base_uri": "https://localhost:8080/",
     "height": 454
    },
    "id": "38698fa1",
    "outputId": "e04c0268-d423-4006-dc60-eb20ddb4dc44"
   },
   "outputs": [
    {
     "data": {
      "text/html": [
       "<div>\n",
       "<style scoped>\n",
       "    .dataframe tbody tr th:only-of-type {\n",
       "        vertical-align: middle;\n",
       "    }\n",
       "\n",
       "    .dataframe tbody tr th {\n",
       "        vertical-align: top;\n",
       "    }\n",
       "\n",
       "    .dataframe thead th {\n",
       "        text-align: right;\n",
       "    }\n",
       "</style>\n",
       "<table border=\"1\" class=\"dataframe\">\n",
       "  <thead>\n",
       "    <tr style=\"text-align: right;\">\n",
       "      <th></th>\n",
       "      <th>DGS10</th>\n",
       "    </tr>\n",
       "    <tr>\n",
       "      <th>DATE</th>\n",
       "      <th></th>\n",
       "    </tr>\n",
       "  </thead>\n",
       "  <tbody>\n",
       "    <tr>\n",
       "      <th>1999-01-04</th>\n",
       "      <td>4.69</td>\n",
       "    </tr>\n",
       "    <tr>\n",
       "      <th>1999-01-05</th>\n",
       "      <td>4.74</td>\n",
       "    </tr>\n",
       "    <tr>\n",
       "      <th>1999-01-06</th>\n",
       "      <td>4.73</td>\n",
       "    </tr>\n",
       "    <tr>\n",
       "      <th>1999-01-07</th>\n",
       "      <td>4.77</td>\n",
       "    </tr>\n",
       "    <tr>\n",
       "      <th>1999-01-08</th>\n",
       "      <td>4.86</td>\n",
       "    </tr>\n",
       "    <tr>\n",
       "      <th>...</th>\n",
       "      <td>...</td>\n",
       "    </tr>\n",
       "    <tr>\n",
       "      <th>2024-04-04</th>\n",
       "      <td>4.31</td>\n",
       "    </tr>\n",
       "    <tr>\n",
       "      <th>2024-04-05</th>\n",
       "      <td>4.39</td>\n",
       "    </tr>\n",
       "    <tr>\n",
       "      <th>2024-04-08</th>\n",
       "      <td>4.42</td>\n",
       "    </tr>\n",
       "    <tr>\n",
       "      <th>2024-04-09</th>\n",
       "      <td>4.36</td>\n",
       "    </tr>\n",
       "    <tr>\n",
       "      <th>2024-04-10</th>\n",
       "      <td>4.55</td>\n",
       "    </tr>\n",
       "  </tbody>\n",
       "</table>\n",
       "<p>6593 rows × 1 columns</p>\n",
       "</div>"
      ],
      "text/plain": [
       "           DGS10\n",
       "DATE            \n",
       "1999-01-04  4.69\n",
       "1999-01-05  4.74\n",
       "1999-01-06  4.73\n",
       "1999-01-07  4.77\n",
       "1999-01-08  4.86\n",
       "...          ...\n",
       "2024-04-04  4.31\n",
       "2024-04-05  4.39\n",
       "2024-04-08  4.42\n",
       "2024-04-09  4.36\n",
       "2024-04-10  4.55\n",
       "\n",
       "[6593 rows x 1 columns]"
      ]
     },
     "execution_count": 12,
     "metadata": {},
     "output_type": "execute_result"
    }
   ],
   "source": [
    "us_rates = index(us_rates,'DATE')\n",
    "us_rates"
   ]
  },
  {
   "cell_type": "code",
   "execution_count": 13,
   "id": "6fbc7335",
   "metadata": {
    "id": "6fbc7335"
   },
   "outputs": [],
   "source": [
    "us_rates['DGS10'] = us_rates['DGS10'].replace('.', np.nan)"
   ]
  },
  {
   "cell_type": "code",
   "execution_count": 14,
   "id": "d6cab40d",
   "metadata": {
    "colab": {
     "base_uri": "https://localhost:8080/"
    },
    "id": "d6cab40d",
    "outputId": "7bdd4986-d0e9-4612-bf73-b7da86552770"
   },
   "outputs": [
    {
     "data": {
      "text/plain": [
       "DGS10    270\n",
       "dtype: int64"
      ]
     },
     "execution_count": 14,
     "metadata": {},
     "output_type": "execute_result"
    }
   ],
   "source": [
    "nan_counts_us_rates = us_rates.isna().sum()\n",
    "nan_counts_us_rates"
   ]
  },
  {
   "cell_type": "code",
   "execution_count": 15,
   "id": "5a0e1aa7",
   "metadata": {
    "colab": {
     "base_uri": "https://localhost:8080/"
    },
    "id": "5a0e1aa7",
    "outputId": "290848cb-2d8c-4b94-eaf2-11a0bd8e3340"
   },
   "outputs": [],
   "source": [
    "japan_rates = index(japan_rates,'Date')\n"
   ]
  },
  {
   "cell_type": "code",
   "execution_count": 16,
   "id": "af1ca7bd",
   "metadata": {
    "colab": {
     "base_uri": "https://localhost:8080/"
    },
    "id": "af1ca7bd",
    "outputId": "86eae66d-556d-4859-97b9-258977594c4a"
   },
   "outputs": [
    {
     "data": {
      "text/plain": [
       "1Y     0\n",
       "2Y     0\n",
       "3Y     0\n",
       "4Y     0\n",
       "5Y     0\n",
       "6Y     0\n",
       "7Y     0\n",
       "8Y     0\n",
       "9Y     0\n",
       "10Y    0\n",
       "15Y    0\n",
       "20Y    0\n",
       "25Y    0\n",
       "30Y    0\n",
       "40Y    0\n",
       "dtype: int64"
      ]
     },
     "execution_count": 16,
     "metadata": {},
     "output_type": "execute_result"
    }
   ],
   "source": [
    "nan_counts_jpn_rates = japan_rates.isna().sum()\n",
    "nan_counts_jpn_rates"
   ]
  },
  {
   "cell_type": "code",
   "execution_count": 17,
   "id": "56470b47",
   "metadata": {
    "colab": {
     "base_uri": "https://localhost:8080/",
     "height": 419
    },
    "id": "56470b47",
    "outputId": "3581c3c5-4423-42d1-ff34-598f404ed772"
   },
   "outputs": [
    {
     "data": {
      "text/html": [
       "<div>\n",
       "<style scoped>\n",
       "    .dataframe tbody tr th:only-of-type {\n",
       "        vertical-align: middle;\n",
       "    }\n",
       "\n",
       "    .dataframe tbody tr th {\n",
       "        vertical-align: top;\n",
       "    }\n",
       "\n",
       "    .dataframe thead th {\n",
       "        text-align: right;\n",
       "    }\n",
       "</style>\n",
       "<table border=\"1\" class=\"dataframe\">\n",
       "  <thead>\n",
       "    <tr style=\"text-align: right;\">\n",
       "      <th></th>\n",
       "      <th>DATE</th>\n",
       "      <th>DTB3</th>\n",
       "    </tr>\n",
       "  </thead>\n",
       "  <tbody>\n",
       "    <tr>\n",
       "      <th>0</th>\n",
       "      <td>2018-01-02</td>\n",
       "      <td>1.42</td>\n",
       "    </tr>\n",
       "    <tr>\n",
       "      <th>1</th>\n",
       "      <td>2018-01-03</td>\n",
       "      <td>1.39</td>\n",
       "    </tr>\n",
       "    <tr>\n",
       "      <th>2</th>\n",
       "      <td>2018-01-04</td>\n",
       "      <td>1.39</td>\n",
       "    </tr>\n",
       "    <tr>\n",
       "      <th>3</th>\n",
       "      <td>2018-01-05</td>\n",
       "      <td>1.37</td>\n",
       "    </tr>\n",
       "    <tr>\n",
       "      <th>4</th>\n",
       "      <td>2018-01-08</td>\n",
       "      <td>1.43</td>\n",
       "    </tr>\n",
       "    <tr>\n",
       "      <th>...</th>\n",
       "      <td>...</td>\n",
       "      <td>...</td>\n",
       "    </tr>\n",
       "    <tr>\n",
       "      <th>1629</th>\n",
       "      <td>2024-04-01</td>\n",
       "      <td>5.23</td>\n",
       "    </tr>\n",
       "    <tr>\n",
       "      <th>1630</th>\n",
       "      <td>2024-04-02</td>\n",
       "      <td>5.22</td>\n",
       "    </tr>\n",
       "    <tr>\n",
       "      <th>1631</th>\n",
       "      <td>2024-04-03</td>\n",
       "      <td>5.22</td>\n",
       "    </tr>\n",
       "    <tr>\n",
       "      <th>1632</th>\n",
       "      <td>2024-04-04</td>\n",
       "      <td>5.21</td>\n",
       "    </tr>\n",
       "    <tr>\n",
       "      <th>1633</th>\n",
       "      <td>2024-04-05</td>\n",
       "      <td>5.23</td>\n",
       "    </tr>\n",
       "  </tbody>\n",
       "</table>\n",
       "<p>1634 rows × 2 columns</p>\n",
       "</div>"
      ],
      "text/plain": [
       "            DATE  DTB3\n",
       "0     2018-01-02  1.42\n",
       "1     2018-01-03  1.39\n",
       "2     2018-01-04  1.39\n",
       "3     2018-01-05  1.37\n",
       "4     2018-01-08  1.43\n",
       "...          ...   ...\n",
       "1629  2024-04-01  5.23\n",
       "1630  2024-04-02  5.22\n",
       "1631  2024-04-03  5.22\n",
       "1632  2024-04-04  5.21\n",
       "1633  2024-04-05  5.23\n",
       "\n",
       "[1634 rows x 2 columns]"
      ]
     },
     "execution_count": 17,
     "metadata": {},
     "output_type": "execute_result"
    }
   ],
   "source": [
    "us_3months_treasury"
   ]
  },
  {
   "cell_type": "code",
   "execution_count": 18,
   "id": "1b062b15",
   "metadata": {
    "id": "1b062b15"
   },
   "outputs": [],
   "source": [
    "us_3months_treasury['DTB3'] = us_3months_treasury['DTB3'].replace('.', np.nan)"
   ]
  },
  {
   "cell_type": "code",
   "execution_count": 19,
   "id": "2d1bb4f6",
   "metadata": {
    "id": "2d1bb4f6"
   },
   "outputs": [],
   "source": [
    "us_3months_treasury = index(us_3months_treasury,'DATE')"
   ]
  },
  {
   "cell_type": "code",
   "execution_count": 20,
   "id": "a0266229",
   "metadata": {
    "colab": {
     "base_uri": "https://localhost:8080/"
    },
    "id": "a0266229",
    "outputId": "b7c4ae24-fa19-47fb-e049-de43d845e62d"
   },
   "outputs": [
    {
     "data": {
      "text/plain": [
       "DTB3    68\n",
       "dtype: int64"
      ]
     },
     "execution_count": 20,
     "metadata": {},
     "output_type": "execute_result"
    }
   ],
   "source": [
    "nan_counts_us_3m = us_3months_treasury.isna().sum()\n",
    "nan_counts_us_3m"
   ]
  },
  {
   "cell_type": "code",
   "execution_count": 21,
   "id": "91f9df35",
   "metadata": {
    "colab": {
     "base_uri": "https://localhost:8080/",
     "height": 424
    },
    "id": "91f9df35",
    "outputId": "09a1133c-2748-4c85-e64c-a2b8248f552b"
   },
   "outputs": [
    {
     "data": {
      "text/html": [
       "<div>\n",
       "<style scoped>\n",
       "    .dataframe tbody tr th:only-of-type {\n",
       "        vertical-align: middle;\n",
       "    }\n",
       "\n",
       "    .dataframe tbody tr th {\n",
       "        vertical-align: top;\n",
       "    }\n",
       "\n",
       "    .dataframe thead th {\n",
       "        text-align: right;\n",
       "    }\n",
       "</style>\n",
       "<table border=\"1\" class=\"dataframe\">\n",
       "  <thead>\n",
       "    <tr style=\"text-align: right;\">\n",
       "      <th></th>\n",
       "      <th>DATE</th>\n",
       "      <th>DGS1</th>\n",
       "    </tr>\n",
       "  </thead>\n",
       "  <tbody>\n",
       "    <tr>\n",
       "      <th>0</th>\n",
       "      <td>2018-01-02</td>\n",
       "      <td>1.83</td>\n",
       "    </tr>\n",
       "    <tr>\n",
       "      <th>1</th>\n",
       "      <td>2018-01-03</td>\n",
       "      <td>1.81</td>\n",
       "    </tr>\n",
       "    <tr>\n",
       "      <th>2</th>\n",
       "      <td>2018-01-04</td>\n",
       "      <td>1.82</td>\n",
       "    </tr>\n",
       "    <tr>\n",
       "      <th>3</th>\n",
       "      <td>2018-01-05</td>\n",
       "      <td>1.80</td>\n",
       "    </tr>\n",
       "    <tr>\n",
       "      <th>4</th>\n",
       "      <td>2018-01-08</td>\n",
       "      <td>1.79</td>\n",
       "    </tr>\n",
       "    <tr>\n",
       "      <th>...</th>\n",
       "      <td>...</td>\n",
       "      <td>...</td>\n",
       "    </tr>\n",
       "    <tr>\n",
       "      <th>1629</th>\n",
       "      <td>2024-04-01</td>\n",
       "      <td>5.06</td>\n",
       "    </tr>\n",
       "    <tr>\n",
       "      <th>1630</th>\n",
       "      <td>2024-04-02</td>\n",
       "      <td>5.05</td>\n",
       "    </tr>\n",
       "    <tr>\n",
       "      <th>1631</th>\n",
       "      <td>2024-04-03</td>\n",
       "      <td>5.03</td>\n",
       "    </tr>\n",
       "    <tr>\n",
       "      <th>1632</th>\n",
       "      <td>2024-04-04</td>\n",
       "      <td>5.0</td>\n",
       "    </tr>\n",
       "    <tr>\n",
       "      <th>1633</th>\n",
       "      <td>2024-04-05</td>\n",
       "      <td>5.05</td>\n",
       "    </tr>\n",
       "  </tbody>\n",
       "</table>\n",
       "<p>1634 rows × 2 columns</p>\n",
       "</div>"
      ],
      "text/plain": [
       "            DATE  DGS1\n",
       "0     2018-01-02  1.83\n",
       "1     2018-01-03  1.81\n",
       "2     2018-01-04  1.82\n",
       "3     2018-01-05  1.80\n",
       "4     2018-01-08  1.79\n",
       "...          ...   ...\n",
       "1629  2024-04-01  5.06\n",
       "1630  2024-04-02  5.05\n",
       "1631  2024-04-03  5.03\n",
       "1632  2024-04-04   5.0\n",
       "1633  2024-04-05  5.05\n",
       "\n",
       "[1634 rows x 2 columns]"
      ]
     },
     "execution_count": 21,
     "metadata": {},
     "output_type": "execute_result"
    }
   ],
   "source": [
    "us_1year_treasury"
   ]
  },
  {
   "cell_type": "code",
   "execution_count": 22,
   "id": "582c1baf",
   "metadata": {
    "id": "582c1baf"
   },
   "outputs": [],
   "source": [
    "us_1year_treasury['DGS1'] = us_1year_treasury['DGS1'].replace('.', np.nan)"
   ]
  },
  {
   "cell_type": "code",
   "execution_count": 23,
   "id": "a4ef95c6",
   "metadata": {
    "id": "a4ef95c6"
   },
   "outputs": [],
   "source": [
    "us_1year_treasury = index(us_1year_treasury,'DATE')"
   ]
  },
  {
   "cell_type": "code",
   "execution_count": 24,
   "id": "9a97452f",
   "metadata": {
    "colab": {
     "base_uri": "https://localhost:8080/"
    },
    "id": "9a97452f",
    "outputId": "7df622f5-43ba-4fce-fa10-2e85803af861"
   },
   "outputs": [
    {
     "data": {
      "text/plain": [
       "DGS1    68\n",
       "dtype: int64"
      ]
     },
     "execution_count": 24,
     "metadata": {},
     "output_type": "execute_result"
    }
   ],
   "source": [
    "nan_counts_us_1y = us_1year_treasury.isna().sum()\n",
    "nan_counts_us_1y"
   ]
  },
  {
   "cell_type": "markdown",
   "id": "347d188c",
   "metadata": {
    "id": "347d188c"
   },
   "source": [
    "### Filling NAN values through interpolation"
   ]
  },
  {
   "cell_type": "code",
   "execution_count": 25,
   "id": "65e4923d",
   "metadata": {
    "id": "65e4923d"
   },
   "outputs": [],
   "source": [
    "fx_data = fx_data_raw.interpolate(method='linear')"
   ]
  },
  {
   "cell_type": "code",
   "execution_count": 26,
   "id": "5a414f4d",
   "metadata": {
    "colab": {
     "base_uri": "https://localhost:8080/"
    },
    "id": "5a414f4d",
    "outputId": "f0efbc90-5d87-47ca-b03f-4c7fb6938c7e"
   },
   "outputs": [
    {
     "data": {
      "text/plain": [
       "DEXJPUS    0\n",
       "dtype: int64"
      ]
     },
     "execution_count": 26,
     "metadata": {},
     "output_type": "execute_result"
    }
   ],
   "source": [
    "nan_counts_b = fx_data.isna().sum()\n",
    "nan_counts_b"
   ]
  },
  {
   "cell_type": "code",
   "execution_count": 27,
   "id": "8d9949b7",
   "metadata": {
    "colab": {
     "base_uri": "https://localhost:8080/",
     "height": 454
    },
    "id": "8d9949b7",
    "outputId": "812a616c-4755-4fcf-a51b-5c190dffa5c1"
   },
   "outputs": [
    {
     "data": {
      "text/html": [
       "<div>\n",
       "<style scoped>\n",
       "    .dataframe tbody tr th:only-of-type {\n",
       "        vertical-align: middle;\n",
       "    }\n",
       "\n",
       "    .dataframe tbody tr th {\n",
       "        vertical-align: top;\n",
       "    }\n",
       "\n",
       "    .dataframe thead th {\n",
       "        text-align: right;\n",
       "    }\n",
       "</style>\n",
       "<table border=\"1\" class=\"dataframe\">\n",
       "  <thead>\n",
       "    <tr style=\"text-align: right;\">\n",
       "      <th></th>\n",
       "      <th>DGS10</th>\n",
       "    </tr>\n",
       "    <tr>\n",
       "      <th>DATE</th>\n",
       "      <th></th>\n",
       "    </tr>\n",
       "  </thead>\n",
       "  <tbody>\n",
       "    <tr>\n",
       "      <th>1999-01-04</th>\n",
       "      <td>4.69</td>\n",
       "    </tr>\n",
       "    <tr>\n",
       "      <th>1999-01-05</th>\n",
       "      <td>4.74</td>\n",
       "    </tr>\n",
       "    <tr>\n",
       "      <th>1999-01-06</th>\n",
       "      <td>4.73</td>\n",
       "    </tr>\n",
       "    <tr>\n",
       "      <th>1999-01-07</th>\n",
       "      <td>4.77</td>\n",
       "    </tr>\n",
       "    <tr>\n",
       "      <th>1999-01-08</th>\n",
       "      <td>4.86</td>\n",
       "    </tr>\n",
       "    <tr>\n",
       "      <th>...</th>\n",
       "      <td>...</td>\n",
       "    </tr>\n",
       "    <tr>\n",
       "      <th>2024-04-04</th>\n",
       "      <td>4.31</td>\n",
       "    </tr>\n",
       "    <tr>\n",
       "      <th>2024-04-05</th>\n",
       "      <td>4.39</td>\n",
       "    </tr>\n",
       "    <tr>\n",
       "      <th>2024-04-08</th>\n",
       "      <td>4.42</td>\n",
       "    </tr>\n",
       "    <tr>\n",
       "      <th>2024-04-09</th>\n",
       "      <td>4.36</td>\n",
       "    </tr>\n",
       "    <tr>\n",
       "      <th>2024-04-10</th>\n",
       "      <td>4.55</td>\n",
       "    </tr>\n",
       "  </tbody>\n",
       "</table>\n",
       "<p>6593 rows × 1 columns</p>\n",
       "</div>"
      ],
      "text/plain": [
       "            DGS10\n",
       "DATE             \n",
       "1999-01-04   4.69\n",
       "1999-01-05   4.74\n",
       "1999-01-06   4.73\n",
       "1999-01-07   4.77\n",
       "1999-01-08   4.86\n",
       "...           ...\n",
       "2024-04-04   4.31\n",
       "2024-04-05   4.39\n",
       "2024-04-08   4.42\n",
       "2024-04-09   4.36\n",
       "2024-04-10   4.55\n",
       "\n",
       "[6593 rows x 1 columns]"
      ]
     },
     "execution_count": 27,
     "metadata": {},
     "output_type": "execute_result"
    }
   ],
   "source": [
    "us_rates['DGS10'] = pd.to_numeric(us_rates['DGS10'], errors='coerce')\n",
    "us_rf = us_rates.interpolate(method='linear')\n",
    "us_rf"
   ]
  },
  {
   "cell_type": "code",
   "execution_count": 28,
   "id": "04164e8c",
   "metadata": {
    "colab": {
     "base_uri": "https://localhost:8080/"
    },
    "id": "04164e8c",
    "outputId": "13079a28-9518-4cb7-dfcf-54f460be0d66"
   },
   "outputs": [
    {
     "data": {
      "text/plain": [
       "DGS10    0\n",
       "dtype: int64"
      ]
     },
     "execution_count": 28,
     "metadata": {},
     "output_type": "execute_result"
    }
   ],
   "source": [
    "nan_counts_usrf = us_rf.isna().sum()\n",
    "nan_counts_usrf"
   ]
  },
  {
   "cell_type": "code",
   "execution_count": 29,
   "id": "0a56698a",
   "metadata": {
    "colab": {
     "base_uri": "https://localhost:8080/",
     "height": 454
    },
    "id": "0a56698a",
    "outputId": "60653eca-3882-4e70-d22f-0d2f21e601ea"
   },
   "outputs": [
    {
     "data": {
      "text/html": [
       "<div>\n",
       "<style scoped>\n",
       "    .dataframe tbody tr th:only-of-type {\n",
       "        vertical-align: middle;\n",
       "    }\n",
       "\n",
       "    .dataframe tbody tr th {\n",
       "        vertical-align: top;\n",
       "    }\n",
       "\n",
       "    .dataframe thead th {\n",
       "        text-align: right;\n",
       "    }\n",
       "</style>\n",
       "<table border=\"1\" class=\"dataframe\">\n",
       "  <thead>\n",
       "    <tr style=\"text-align: right;\">\n",
       "      <th></th>\n",
       "      <th>DTB3</th>\n",
       "    </tr>\n",
       "    <tr>\n",
       "      <th>DATE</th>\n",
       "      <th></th>\n",
       "    </tr>\n",
       "  </thead>\n",
       "  <tbody>\n",
       "    <tr>\n",
       "      <th>2018-01-02</th>\n",
       "      <td>1.42</td>\n",
       "    </tr>\n",
       "    <tr>\n",
       "      <th>2018-01-03</th>\n",
       "      <td>1.39</td>\n",
       "    </tr>\n",
       "    <tr>\n",
       "      <th>2018-01-04</th>\n",
       "      <td>1.39</td>\n",
       "    </tr>\n",
       "    <tr>\n",
       "      <th>2018-01-05</th>\n",
       "      <td>1.37</td>\n",
       "    </tr>\n",
       "    <tr>\n",
       "      <th>2018-01-08</th>\n",
       "      <td>1.43</td>\n",
       "    </tr>\n",
       "    <tr>\n",
       "      <th>...</th>\n",
       "      <td>...</td>\n",
       "    </tr>\n",
       "    <tr>\n",
       "      <th>2024-04-01</th>\n",
       "      <td>5.23</td>\n",
       "    </tr>\n",
       "    <tr>\n",
       "      <th>2024-04-02</th>\n",
       "      <td>5.22</td>\n",
       "    </tr>\n",
       "    <tr>\n",
       "      <th>2024-04-03</th>\n",
       "      <td>5.22</td>\n",
       "    </tr>\n",
       "    <tr>\n",
       "      <th>2024-04-04</th>\n",
       "      <td>5.21</td>\n",
       "    </tr>\n",
       "    <tr>\n",
       "      <th>2024-04-05</th>\n",
       "      <td>5.23</td>\n",
       "    </tr>\n",
       "  </tbody>\n",
       "</table>\n",
       "<p>1634 rows × 1 columns</p>\n",
       "</div>"
      ],
      "text/plain": [
       "            DTB3\n",
       "DATE            \n",
       "2018-01-02  1.42\n",
       "2018-01-03  1.39\n",
       "2018-01-04  1.39\n",
       "2018-01-05  1.37\n",
       "2018-01-08  1.43\n",
       "...          ...\n",
       "2024-04-01  5.23\n",
       "2024-04-02  5.22\n",
       "2024-04-03  5.22\n",
       "2024-04-04  5.21\n",
       "2024-04-05  5.23\n",
       "\n",
       "[1634 rows x 1 columns]"
      ]
     },
     "execution_count": 29,
     "metadata": {},
     "output_type": "execute_result"
    }
   ],
   "source": [
    "us_3months_treasury['DTB3'] = pd.to_numeric(us_3months_treasury['DTB3'], errors='coerce')\n",
    "us_3m_rf = us_3months_treasury.interpolate(method='linear')\n",
    "us_3m_rf"
   ]
  },
  {
   "cell_type": "code",
   "execution_count": 30,
   "id": "67b12e39",
   "metadata": {
    "colab": {
     "base_uri": "https://localhost:8080/",
     "height": 454
    },
    "id": "67b12e39",
    "outputId": "3021bb34-9a43-49f0-abb6-a68c93b1bdd7"
   },
   "outputs": [
    {
     "data": {
      "text/html": [
       "<div>\n",
       "<style scoped>\n",
       "    .dataframe tbody tr th:only-of-type {\n",
       "        vertical-align: middle;\n",
       "    }\n",
       "\n",
       "    .dataframe tbody tr th {\n",
       "        vertical-align: top;\n",
       "    }\n",
       "\n",
       "    .dataframe thead th {\n",
       "        text-align: right;\n",
       "    }\n",
       "</style>\n",
       "<table border=\"1\" class=\"dataframe\">\n",
       "  <thead>\n",
       "    <tr style=\"text-align: right;\">\n",
       "      <th></th>\n",
       "      <th>DGS1</th>\n",
       "    </tr>\n",
       "    <tr>\n",
       "      <th>DATE</th>\n",
       "      <th></th>\n",
       "    </tr>\n",
       "  </thead>\n",
       "  <tbody>\n",
       "    <tr>\n",
       "      <th>2018-01-02</th>\n",
       "      <td>0.0183</td>\n",
       "    </tr>\n",
       "    <tr>\n",
       "      <th>2018-01-03</th>\n",
       "      <td>0.0181</td>\n",
       "    </tr>\n",
       "    <tr>\n",
       "      <th>2018-01-04</th>\n",
       "      <td>0.0182</td>\n",
       "    </tr>\n",
       "    <tr>\n",
       "      <th>2018-01-05</th>\n",
       "      <td>0.0180</td>\n",
       "    </tr>\n",
       "    <tr>\n",
       "      <th>2018-01-08</th>\n",
       "      <td>0.0179</td>\n",
       "    </tr>\n",
       "    <tr>\n",
       "      <th>...</th>\n",
       "      <td>...</td>\n",
       "    </tr>\n",
       "    <tr>\n",
       "      <th>2024-04-01</th>\n",
       "      <td>0.0506</td>\n",
       "    </tr>\n",
       "    <tr>\n",
       "      <th>2024-04-02</th>\n",
       "      <td>0.0505</td>\n",
       "    </tr>\n",
       "    <tr>\n",
       "      <th>2024-04-03</th>\n",
       "      <td>0.0503</td>\n",
       "    </tr>\n",
       "    <tr>\n",
       "      <th>2024-04-04</th>\n",
       "      <td>0.0500</td>\n",
       "    </tr>\n",
       "    <tr>\n",
       "      <th>2024-04-05</th>\n",
       "      <td>0.0505</td>\n",
       "    </tr>\n",
       "  </tbody>\n",
       "</table>\n",
       "<p>1634 rows × 1 columns</p>\n",
       "</div>"
      ],
      "text/plain": [
       "              DGS1\n",
       "DATE              \n",
       "2018-01-02  0.0183\n",
       "2018-01-03  0.0181\n",
       "2018-01-04  0.0182\n",
       "2018-01-05  0.0180\n",
       "2018-01-08  0.0179\n",
       "...            ...\n",
       "2024-04-01  0.0506\n",
       "2024-04-02  0.0505\n",
       "2024-04-03  0.0503\n",
       "2024-04-04  0.0500\n",
       "2024-04-05  0.0505\n",
       "\n",
       "[1634 rows x 1 columns]"
      ]
     },
     "execution_count": 30,
     "metadata": {},
     "output_type": "execute_result"
    }
   ],
   "source": [
    "us_1year_treasury['DGS1'] = pd.to_numeric(us_1year_treasury['DGS1'], errors='coerce')\n",
    "us_1y_rf = us_1year_treasury.interpolate(method='linear')\n",
    "us_1y_rf = us_1y_rf/100\n",
    "us_1y_rf"
   ]
  },
  {
   "cell_type": "code",
   "execution_count": 31,
   "id": "874ab93f",
   "metadata": {
    "colab": {
     "base_uri": "https://localhost:8080/"
    },
    "id": "874ab93f",
    "outputId": "37f32508-8ea1-4e79-a4e6-a9179a1840a3"
   },
   "outputs": [
    {
     "data": {
      "text/plain": [
       "DTB3    0\n",
       "dtype: int64"
      ]
     },
     "execution_count": 31,
     "metadata": {},
     "output_type": "execute_result"
    }
   ],
   "source": [
    "nan_counts_us3m = us_3m_rf.isna().sum()\n",
    "nan_counts_us3m"
   ]
  },
  {
   "cell_type": "code",
   "execution_count": 32,
   "id": "3efc16ad",
   "metadata": {
    "colab": {
     "base_uri": "https://localhost:8080/"
    },
    "id": "3efc16ad",
    "outputId": "447a05ba-11c5-4b1b-eac9-0782156f3fa3"
   },
   "outputs": [
    {
     "data": {
      "text/plain": [
       "DGS1    0\n",
       "dtype: int64"
      ]
     },
     "execution_count": 32,
     "metadata": {},
     "output_type": "execute_result"
    }
   ],
   "source": [
    "nan_counts_us1y = us_1y_rf.isna().sum()\n",
    "nan_counts_us1y"
   ]
  },
  {
   "cell_type": "markdown",
   "id": "198b7226",
   "metadata": {
    "id": "198b7226"
   },
   "source": [
    "#### Calculating log returns for exchange rates"
   ]
  },
  {
   "cell_type": "code",
   "execution_count": 33,
   "id": "0dbf692d",
   "metadata": {
    "id": "0dbf692d"
   },
   "outputs": [],
   "source": [
    "fx_data['Log_Returns'] = np.log(fx_data['DEXJPUS'] / fx_data['DEXJPUS'].shift(1))"
   ]
  },
  {
   "cell_type": "code",
   "execution_count": 34,
   "id": "9522ac9d",
   "metadata": {
    "colab": {
     "base_uri": "https://localhost:8080/",
     "height": 454
    },
    "id": "9522ac9d",
    "outputId": "df3cd932-5eb6-4eb4-d78f-1c5e6f4037c3"
   },
   "outputs": [
    {
     "data": {
      "text/html": [
       "<div>\n",
       "<style scoped>\n",
       "    .dataframe tbody tr th:only-of-type {\n",
       "        vertical-align: middle;\n",
       "    }\n",
       "\n",
       "    .dataframe tbody tr th {\n",
       "        vertical-align: top;\n",
       "    }\n",
       "\n",
       "    .dataframe thead th {\n",
       "        text-align: right;\n",
       "    }\n",
       "</style>\n",
       "<table border=\"1\" class=\"dataframe\">\n",
       "  <thead>\n",
       "    <tr style=\"text-align: right;\">\n",
       "      <th></th>\n",
       "      <th>DEXJPUS</th>\n",
       "      <th>Log_Returns</th>\n",
       "    </tr>\n",
       "    <tr>\n",
       "      <th>observation_date</th>\n",
       "      <th></th>\n",
       "      <th></th>\n",
       "    </tr>\n",
       "  </thead>\n",
       "  <tbody>\n",
       "    <tr>\n",
       "      <th>1999-01-04</th>\n",
       "      <td>112.15</td>\n",
       "      <td>NaN</td>\n",
       "    </tr>\n",
       "    <tr>\n",
       "      <th>1999-01-05</th>\n",
       "      <td>111.15</td>\n",
       "      <td>-0.008957</td>\n",
       "    </tr>\n",
       "    <tr>\n",
       "      <th>1999-01-06</th>\n",
       "      <td>112.78</td>\n",
       "      <td>0.014558</td>\n",
       "    </tr>\n",
       "    <tr>\n",
       "      <th>1999-01-07</th>\n",
       "      <td>111.69</td>\n",
       "      <td>-0.009712</td>\n",
       "    </tr>\n",
       "    <tr>\n",
       "      <th>1999-01-08</th>\n",
       "      <td>111.52</td>\n",
       "      <td>-0.001523</td>\n",
       "    </tr>\n",
       "    <tr>\n",
       "      <th>...</th>\n",
       "      <td>...</td>\n",
       "      <td>...</td>\n",
       "    </tr>\n",
       "    <tr>\n",
       "      <th>2024-04-01</th>\n",
       "      <td>151.72</td>\n",
       "      <td>0.003301</td>\n",
       "    </tr>\n",
       "    <tr>\n",
       "      <th>2024-04-02</th>\n",
       "      <td>151.55</td>\n",
       "      <td>-0.001121</td>\n",
       "    </tr>\n",
       "    <tr>\n",
       "      <th>2024-04-03</th>\n",
       "      <td>151.67</td>\n",
       "      <td>0.000792</td>\n",
       "    </tr>\n",
       "    <tr>\n",
       "      <th>2024-04-04</th>\n",
       "      <td>151.66</td>\n",
       "      <td>-0.000066</td>\n",
       "    </tr>\n",
       "    <tr>\n",
       "      <th>2024-04-05</th>\n",
       "      <td>151.59</td>\n",
       "      <td>-0.000462</td>\n",
       "    </tr>\n",
       "  </tbody>\n",
       "</table>\n",
       "<p>6590 rows × 2 columns</p>\n",
       "</div>"
      ],
      "text/plain": [
       "                  DEXJPUS  Log_Returns\n",
       "observation_date                      \n",
       "1999-01-04         112.15          NaN\n",
       "1999-01-05         111.15    -0.008957\n",
       "1999-01-06         112.78     0.014558\n",
       "1999-01-07         111.69    -0.009712\n",
       "1999-01-08         111.52    -0.001523\n",
       "...                   ...          ...\n",
       "2024-04-01         151.72     0.003301\n",
       "2024-04-02         151.55    -0.001121\n",
       "2024-04-03         151.67     0.000792\n",
       "2024-04-04         151.66    -0.000066\n",
       "2024-04-05         151.59    -0.000462\n",
       "\n",
       "[6590 rows x 2 columns]"
      ]
     },
     "execution_count": 34,
     "metadata": {},
     "output_type": "execute_result"
    }
   ],
   "source": [
    "fx_data"
   ]
  },
  {
   "cell_type": "code",
   "execution_count": null,
   "id": "6f4ca1b7",
   "metadata": {
    "id": "6f4ca1b7"
   },
   "outputs": [],
   "source": [
    "# Filter the DataFrame for your dates of interest\n",
    "#fx = fx_data.loc['2019-01-01':'2023-12-31']\n",
    "#fx"
   ]
  },
  {
   "cell_type": "code",
   "execution_count": 35,
   "id": "a3842c3e",
   "metadata": {
    "colab": {
     "base_uri": "https://localhost:8080/"
    },
    "id": "a3842c3e",
    "outputId": "5d306d9a-f02c-4262-9430-a5c2d58c8cf2"
   },
   "outputs": [
    {
     "data": {
      "text/plain": [
       "DEXJPUS        0\n",
       "Log_Returns    1\n",
       "dtype: int64"
      ]
     },
     "execution_count": 35,
     "metadata": {},
     "output_type": "execute_result"
    }
   ],
   "source": [
    "nan_counts = fx_data.isna().sum()\n",
    "nan_counts"
   ]
  },
  {
   "cell_type": "code",
   "execution_count": 36,
   "id": "f9ac9781",
   "metadata": {
    "id": "f9ac9781"
   },
   "outputs": [],
   "source": [
    "fx_data.dropna(inplace=True)"
   ]
  },
  {
   "cell_type": "code",
   "execution_count": 37,
   "id": "c4407488",
   "metadata": {
    "colab": {
     "base_uri": "https://localhost:8080/",
     "height": 454
    },
    "id": "c4407488",
    "outputId": "5deefa1b-7b15-40f9-f83d-a11fb7c9dfd4"
   },
   "outputs": [
    {
     "data": {
      "text/html": [
       "<div>\n",
       "<style scoped>\n",
       "    .dataframe tbody tr th:only-of-type {\n",
       "        vertical-align: middle;\n",
       "    }\n",
       "\n",
       "    .dataframe tbody tr th {\n",
       "        vertical-align: top;\n",
       "    }\n",
       "\n",
       "    .dataframe thead th {\n",
       "        text-align: right;\n",
       "    }\n",
       "</style>\n",
       "<table border=\"1\" class=\"dataframe\">\n",
       "  <thead>\n",
       "    <tr style=\"text-align: right;\">\n",
       "      <th></th>\n",
       "      <th>DEXJPUS</th>\n",
       "      <th>Log_Returns</th>\n",
       "    </tr>\n",
       "    <tr>\n",
       "      <th>observation_date</th>\n",
       "      <th></th>\n",
       "      <th></th>\n",
       "    </tr>\n",
       "  </thead>\n",
       "  <tbody>\n",
       "    <tr>\n",
       "      <th>1999-01-05</th>\n",
       "      <td>111.15</td>\n",
       "      <td>-0.008957</td>\n",
       "    </tr>\n",
       "    <tr>\n",
       "      <th>1999-01-06</th>\n",
       "      <td>112.78</td>\n",
       "      <td>0.014558</td>\n",
       "    </tr>\n",
       "    <tr>\n",
       "      <th>1999-01-07</th>\n",
       "      <td>111.69</td>\n",
       "      <td>-0.009712</td>\n",
       "    </tr>\n",
       "    <tr>\n",
       "      <th>1999-01-08</th>\n",
       "      <td>111.52</td>\n",
       "      <td>-0.001523</td>\n",
       "    </tr>\n",
       "    <tr>\n",
       "      <th>1999-01-11</th>\n",
       "      <td>108.83</td>\n",
       "      <td>-0.024417</td>\n",
       "    </tr>\n",
       "    <tr>\n",
       "      <th>...</th>\n",
       "      <td>...</td>\n",
       "      <td>...</td>\n",
       "    </tr>\n",
       "    <tr>\n",
       "      <th>2024-04-01</th>\n",
       "      <td>151.72</td>\n",
       "      <td>0.003301</td>\n",
       "    </tr>\n",
       "    <tr>\n",
       "      <th>2024-04-02</th>\n",
       "      <td>151.55</td>\n",
       "      <td>-0.001121</td>\n",
       "    </tr>\n",
       "    <tr>\n",
       "      <th>2024-04-03</th>\n",
       "      <td>151.67</td>\n",
       "      <td>0.000792</td>\n",
       "    </tr>\n",
       "    <tr>\n",
       "      <th>2024-04-04</th>\n",
       "      <td>151.66</td>\n",
       "      <td>-0.000066</td>\n",
       "    </tr>\n",
       "    <tr>\n",
       "      <th>2024-04-05</th>\n",
       "      <td>151.59</td>\n",
       "      <td>-0.000462</td>\n",
       "    </tr>\n",
       "  </tbody>\n",
       "</table>\n",
       "<p>6589 rows × 2 columns</p>\n",
       "</div>"
      ],
      "text/plain": [
       "                  DEXJPUS  Log_Returns\n",
       "observation_date                      \n",
       "1999-01-05         111.15    -0.008957\n",
       "1999-01-06         112.78     0.014558\n",
       "1999-01-07         111.69    -0.009712\n",
       "1999-01-08         111.52    -0.001523\n",
       "1999-01-11         108.83    -0.024417\n",
       "...                   ...          ...\n",
       "2024-04-01         151.72     0.003301\n",
       "2024-04-02         151.55    -0.001121\n",
       "2024-04-03         151.67     0.000792\n",
       "2024-04-04         151.66    -0.000066\n",
       "2024-04-05         151.59    -0.000462\n",
       "\n",
       "[6589 rows x 2 columns]"
      ]
     },
     "execution_count": 37,
     "metadata": {},
     "output_type": "execute_result"
    }
   ],
   "source": [
    "fx_data"
   ]
  },
  {
   "cell_type": "markdown",
   "id": "f1bb892e",
   "metadata": {
    "id": "f1bb892e"
   },
   "source": [
    "## Calculating Historical Volatility"
   ]
  },
  {
   "cell_type": "code",
   "execution_count": 38,
   "id": "37743e1e",
   "metadata": {
    "id": "37743e1e"
   },
   "outputs": [],
   "source": [
    "window = 90\n",
    "fx_data['Historical_Vol'] = fx_data['Log_Returns'].rolling(window).std() * np.sqrt(252)  # Annualizing volatility"
   ]
  },
  {
   "cell_type": "markdown",
   "id": "b0f96932",
   "metadata": {
    "id": "b0f96932"
   },
   "source": [
    "## Splitting data from 2019 to 2024"
   ]
  },
  {
   "cell_type": "code",
   "execution_count": 39,
   "id": "25e14dd4",
   "metadata": {
    "id": "25e14dd4"
   },
   "outputs": [],
   "source": [
    "# Filter the DataFrame for your dates of interest\n",
    "fx = fx_data.loc[start_date:end_date]\n",
    "us_rf = us_rf.loc[start_date:end_date]\n",
    "us_1y = us_1y_rf.loc[start_date:end_date]\n",
    "japan_rf = japan_rates.loc[start_date:end_date]"
   ]
  },
  {
   "cell_type": "code",
   "execution_count": 40,
   "id": "fcf9e489",
   "metadata": {
    "colab": {
     "base_uri": "https://localhost:8080/"
    },
    "id": "fcf9e489",
    "outputId": "c9c69e4d-596c-44f1-b19a-859e4983bd2a"
   },
   "outputs": [
    {
     "data": {
      "text/plain": [
       "Date\n",
       "2019-01-04   -0.00173\n",
       "2019-01-07   -0.00162\n",
       "2019-01-08   -0.00146\n",
       "2019-01-09   -0.00144\n",
       "2019-01-10   -0.00147\n",
       "               ...   \n",
       "2024-03-25    0.00063\n",
       "2024-03-26    0.00063\n",
       "2024-03-27    0.00055\n",
       "2024-03-28    0.00054\n",
       "2024-03-29    0.00054\n",
       "Name: 1Y, Length: 1277, dtype: float64"
      ]
     },
     "execution_count": 40,
     "metadata": {},
     "output_type": "execute_result"
    }
   ],
   "source": [
    "japan_1y_rf = japan_rf['1Y']/100\n",
    "japan_1y_rf"
   ]
  },
  {
   "cell_type": "code",
   "execution_count": 41,
   "id": "cc41a4b0",
   "metadata": {
    "colab": {
     "base_uri": "https://localhost:8080/"
    },
    "id": "cc41a4b0",
    "outputId": "0818e4bb-22f7-40ac-9475-6de9d73cc1db"
   },
   "outputs": [
    {
     "data": {
      "text/plain": [
       "1Y     0\n",
       "2Y     0\n",
       "3Y     0\n",
       "4Y     0\n",
       "5Y     0\n",
       "6Y     0\n",
       "7Y     0\n",
       "8Y     0\n",
       "9Y     0\n",
       "10Y    0\n",
       "15Y    0\n",
       "20Y    0\n",
       "25Y    0\n",
       "30Y    0\n",
       "40Y    0\n",
       "dtype: int64"
      ]
     },
     "execution_count": 41,
     "metadata": {},
     "output_type": "execute_result"
    }
   ],
   "source": [
    "nan_counts_jpy = japan_rf.isna().sum()\n",
    "nan_counts_jpy"
   ]
  },
  {
   "cell_type": "code",
   "execution_count": 42,
   "id": "7596da3f",
   "metadata": {
    "colab": {
     "base_uri": "https://localhost:8080/",
     "height": 454
    },
    "id": "7596da3f",
    "outputId": "1ccbe6ec-a1b5-49c3-a7d9-2f927c760220"
   },
   "outputs": [
    {
     "data": {
      "text/html": [
       "<div>\n",
       "<style scoped>\n",
       "    .dataframe tbody tr th:only-of-type {\n",
       "        vertical-align: middle;\n",
       "    }\n",
       "\n",
       "    .dataframe tbody tr th {\n",
       "        vertical-align: top;\n",
       "    }\n",
       "\n",
       "    .dataframe thead th {\n",
       "        text-align: right;\n",
       "    }\n",
       "</style>\n",
       "<table border=\"1\" class=\"dataframe\">\n",
       "  <thead>\n",
       "    <tr style=\"text-align: right;\">\n",
       "      <th></th>\n",
       "      <th>DEXJPUS</th>\n",
       "      <th>Log_Returns</th>\n",
       "      <th>Historical_Vol</th>\n",
       "    </tr>\n",
       "    <tr>\n",
       "      <th>observation_date</th>\n",
       "      <th></th>\n",
       "      <th></th>\n",
       "      <th></th>\n",
       "    </tr>\n",
       "  </thead>\n",
       "  <tbody>\n",
       "    <tr>\n",
       "      <th>2019-01-01</th>\n",
       "      <td>109.46</td>\n",
       "      <td>-0.002190</td>\n",
       "      <td>0.052472</td>\n",
       "    </tr>\n",
       "    <tr>\n",
       "      <th>2019-01-02</th>\n",
       "      <td>109.22</td>\n",
       "      <td>-0.002195</td>\n",
       "      <td>0.051230</td>\n",
       "    </tr>\n",
       "    <tr>\n",
       "      <th>2019-01-03</th>\n",
       "      <td>108.07</td>\n",
       "      <td>-0.010585</td>\n",
       "      <td>0.053323</td>\n",
       "    </tr>\n",
       "    <tr>\n",
       "      <th>2019-01-04</th>\n",
       "      <td>108.29</td>\n",
       "      <td>0.002034</td>\n",
       "      <td>0.053414</td>\n",
       "    </tr>\n",
       "    <tr>\n",
       "      <th>2019-01-07</th>\n",
       "      <td>108.62</td>\n",
       "      <td>0.003043</td>\n",
       "      <td>0.053559</td>\n",
       "    </tr>\n",
       "    <tr>\n",
       "      <th>...</th>\n",
       "      <td>...</td>\n",
       "      <td>...</td>\n",
       "      <td>...</td>\n",
       "    </tr>\n",
       "    <tr>\n",
       "      <th>2024-03-25</th>\n",
       "      <td>151.42</td>\n",
       "      <td>0.000462</td>\n",
       "      <td>0.100431</td>\n",
       "    </tr>\n",
       "    <tr>\n",
       "      <th>2024-03-26</th>\n",
       "      <td>151.58</td>\n",
       "      <td>0.001056</td>\n",
       "      <td>0.100328</td>\n",
       "    </tr>\n",
       "    <tr>\n",
       "      <th>2024-03-27</th>\n",
       "      <td>151.35</td>\n",
       "      <td>-0.001519</td>\n",
       "      <td>0.098375</td>\n",
       "    </tr>\n",
       "    <tr>\n",
       "      <th>2024-03-28</th>\n",
       "      <td>151.35</td>\n",
       "      <td>0.000000</td>\n",
       "      <td>0.098372</td>\n",
       "    </tr>\n",
       "    <tr>\n",
       "      <th>2024-03-29</th>\n",
       "      <td>151.22</td>\n",
       "      <td>-0.000859</td>\n",
       "      <td>0.098383</td>\n",
       "    </tr>\n",
       "  </tbody>\n",
       "</table>\n",
       "<p>1369 rows × 3 columns</p>\n",
       "</div>"
      ],
      "text/plain": [
       "                  DEXJPUS  Log_Returns  Historical_Vol\n",
       "observation_date                                      \n",
       "2019-01-01         109.46    -0.002190        0.052472\n",
       "2019-01-02         109.22    -0.002195        0.051230\n",
       "2019-01-03         108.07    -0.010585        0.053323\n",
       "2019-01-04         108.29     0.002034        0.053414\n",
       "2019-01-07         108.62     0.003043        0.053559\n",
       "...                   ...          ...             ...\n",
       "2024-03-25         151.42     0.000462        0.100431\n",
       "2024-03-26         151.58     0.001056        0.100328\n",
       "2024-03-27         151.35    -0.001519        0.098375\n",
       "2024-03-28         151.35     0.000000        0.098372\n",
       "2024-03-29         151.22    -0.000859        0.098383\n",
       "\n",
       "[1369 rows x 3 columns]"
      ]
     },
     "execution_count": 42,
     "metadata": {},
     "output_type": "execute_result"
    }
   ],
   "source": [
    "fx"
   ]
  },
  {
   "cell_type": "code",
   "execution_count": 43,
   "id": "16582813",
   "metadata": {
    "colab": {
     "base_uri": "https://localhost:8080/",
     "height": 454
    },
    "id": "16582813",
    "outputId": "f504fbae-e058-4541-af15-a78504e51d85"
   },
   "outputs": [
    {
     "data": {
      "text/html": [
       "<div>\n",
       "<style scoped>\n",
       "    .dataframe tbody tr th:only-of-type {\n",
       "        vertical-align: middle;\n",
       "    }\n",
       "\n",
       "    .dataframe tbody tr th {\n",
       "        vertical-align: top;\n",
       "    }\n",
       "\n",
       "    .dataframe thead th {\n",
       "        text-align: right;\n",
       "    }\n",
       "</style>\n",
       "<table border=\"1\" class=\"dataframe\">\n",
       "  <thead>\n",
       "    <tr style=\"text-align: right;\">\n",
       "      <th></th>\n",
       "      <th>DGS10</th>\n",
       "    </tr>\n",
       "    <tr>\n",
       "      <th>DATE</th>\n",
       "      <th></th>\n",
       "    </tr>\n",
       "  </thead>\n",
       "  <tbody>\n",
       "    <tr>\n",
       "      <th>2019-01-01</th>\n",
       "      <td>2.675</td>\n",
       "    </tr>\n",
       "    <tr>\n",
       "      <th>2019-01-02</th>\n",
       "      <td>2.660</td>\n",
       "    </tr>\n",
       "    <tr>\n",
       "      <th>2019-01-03</th>\n",
       "      <td>2.560</td>\n",
       "    </tr>\n",
       "    <tr>\n",
       "      <th>2019-01-04</th>\n",
       "      <td>2.670</td>\n",
       "    </tr>\n",
       "    <tr>\n",
       "      <th>2019-01-07</th>\n",
       "      <td>2.700</td>\n",
       "    </tr>\n",
       "    <tr>\n",
       "      <th>...</th>\n",
       "      <td>...</td>\n",
       "    </tr>\n",
       "    <tr>\n",
       "      <th>2024-03-25</th>\n",
       "      <td>4.250</td>\n",
       "    </tr>\n",
       "    <tr>\n",
       "      <th>2024-03-26</th>\n",
       "      <td>4.240</td>\n",
       "    </tr>\n",
       "    <tr>\n",
       "      <th>2024-03-27</th>\n",
       "      <td>4.200</td>\n",
       "    </tr>\n",
       "    <tr>\n",
       "      <th>2024-03-28</th>\n",
       "      <td>4.200</td>\n",
       "    </tr>\n",
       "    <tr>\n",
       "      <th>2024-03-29</th>\n",
       "      <td>4.265</td>\n",
       "    </tr>\n",
       "  </tbody>\n",
       "</table>\n",
       "<p>1369 rows × 1 columns</p>\n",
       "</div>"
      ],
      "text/plain": [
       "            DGS10\n",
       "DATE             \n",
       "2019-01-01  2.675\n",
       "2019-01-02  2.660\n",
       "2019-01-03  2.560\n",
       "2019-01-04  2.670\n",
       "2019-01-07  2.700\n",
       "...           ...\n",
       "2024-03-25  4.250\n",
       "2024-03-26  4.240\n",
       "2024-03-27  4.200\n",
       "2024-03-28  4.200\n",
       "2024-03-29  4.265\n",
       "\n",
       "[1369 rows x 1 columns]"
      ]
     },
     "execution_count": 43,
     "metadata": {},
     "output_type": "execute_result"
    }
   ],
   "source": [
    "us_rf"
   ]
  },
  {
   "cell_type": "code",
   "execution_count": 44,
   "id": "f94dfad3",
   "metadata": {
    "colab": {
     "base_uri": "https://localhost:8080/"
    },
    "id": "f94dfad3",
    "outputId": "1f54b635-df4b-41b8-f77c-830e2eb905d6"
   },
   "outputs": [
    {
     "data": {
      "text/plain": [
       "DEXJPUS           0\n",
       "Log_Returns       0\n",
       "Historical_Vol    0\n",
       "dtype: int64"
      ]
     },
     "execution_count": 44,
     "metadata": {},
     "output_type": "execute_result"
    }
   ],
   "source": [
    "nan_counts = fx.isna().sum()\n",
    "nan_counts"
   ]
  },
  {
   "cell_type": "code",
   "execution_count": 45,
   "id": "bbe5c42d",
   "metadata": {
    "colab": {
     "base_uri": "https://localhost:8080/",
     "height": 454
    },
    "id": "bbe5c42d",
    "outputId": "22a9444d-1b8f-465b-b22b-bf920b71c4d1"
   },
   "outputs": [
    {
     "data": {
      "text/html": [
       "<div>\n",
       "<style scoped>\n",
       "    .dataframe tbody tr th:only-of-type {\n",
       "        vertical-align: middle;\n",
       "    }\n",
       "\n",
       "    .dataframe tbody tr th {\n",
       "        vertical-align: top;\n",
       "    }\n",
       "\n",
       "    .dataframe thead th {\n",
       "        text-align: right;\n",
       "    }\n",
       "</style>\n",
       "<table border=\"1\" class=\"dataframe\">\n",
       "  <thead>\n",
       "    <tr style=\"text-align: right;\">\n",
       "      <th></th>\n",
       "      <th>DEXJPUS</th>\n",
       "      <th>Log_Returns</th>\n",
       "      <th>Historical_Vol</th>\n",
       "      <th>US 1 year</th>\n",
       "    </tr>\n",
       "    <tr>\n",
       "      <th>DATE</th>\n",
       "      <th></th>\n",
       "      <th></th>\n",
       "      <th></th>\n",
       "      <th></th>\n",
       "    </tr>\n",
       "  </thead>\n",
       "  <tbody>\n",
       "    <tr>\n",
       "      <th>2019-01-01</th>\n",
       "      <td>109.46</td>\n",
       "      <td>-0.002190</td>\n",
       "      <td>0.052472</td>\n",
       "      <td>0.02615</td>\n",
       "    </tr>\n",
       "    <tr>\n",
       "      <th>2019-01-02</th>\n",
       "      <td>109.22</td>\n",
       "      <td>-0.002195</td>\n",
       "      <td>0.051230</td>\n",
       "      <td>0.02600</td>\n",
       "    </tr>\n",
       "    <tr>\n",
       "      <th>2019-01-03</th>\n",
       "      <td>108.07</td>\n",
       "      <td>-0.010585</td>\n",
       "      <td>0.053323</td>\n",
       "      <td>0.02500</td>\n",
       "    </tr>\n",
       "    <tr>\n",
       "      <th>2019-01-04</th>\n",
       "      <td>108.29</td>\n",
       "      <td>0.002034</td>\n",
       "      <td>0.053414</td>\n",
       "      <td>0.02570</td>\n",
       "    </tr>\n",
       "    <tr>\n",
       "      <th>2019-01-07</th>\n",
       "      <td>108.62</td>\n",
       "      <td>0.003043</td>\n",
       "      <td>0.053559</td>\n",
       "      <td>0.02580</td>\n",
       "    </tr>\n",
       "    <tr>\n",
       "      <th>...</th>\n",
       "      <td>...</td>\n",
       "      <td>...</td>\n",
       "      <td>...</td>\n",
       "      <td>...</td>\n",
       "    </tr>\n",
       "    <tr>\n",
       "      <th>2024-03-25</th>\n",
       "      <td>151.42</td>\n",
       "      <td>0.000462</td>\n",
       "      <td>0.100431</td>\n",
       "      <td>0.05000</td>\n",
       "    </tr>\n",
       "    <tr>\n",
       "      <th>2024-03-26</th>\n",
       "      <td>151.58</td>\n",
       "      <td>0.001056</td>\n",
       "      <td>0.100328</td>\n",
       "      <td>0.05000</td>\n",
       "    </tr>\n",
       "    <tr>\n",
       "      <th>2024-03-27</th>\n",
       "      <td>151.35</td>\n",
       "      <td>-0.001519</td>\n",
       "      <td>0.098375</td>\n",
       "      <td>0.04990</td>\n",
       "    </tr>\n",
       "    <tr>\n",
       "      <th>2024-03-28</th>\n",
       "      <td>151.35</td>\n",
       "      <td>0.000000</td>\n",
       "      <td>0.098372</td>\n",
       "      <td>0.05030</td>\n",
       "    </tr>\n",
       "    <tr>\n",
       "      <th>2024-03-29</th>\n",
       "      <td>151.22</td>\n",
       "      <td>-0.000859</td>\n",
       "      <td>0.098383</td>\n",
       "      <td>0.05045</td>\n",
       "    </tr>\n",
       "  </tbody>\n",
       "</table>\n",
       "<p>1369 rows × 4 columns</p>\n",
       "</div>"
      ],
      "text/plain": [
       "            DEXJPUS  Log_Returns  Historical_Vol  US 1 year\n",
       "DATE                                                       \n",
       "2019-01-01   109.46    -0.002190        0.052472    0.02615\n",
       "2019-01-02   109.22    -0.002195        0.051230    0.02600\n",
       "2019-01-03   108.07    -0.010585        0.053323    0.02500\n",
       "2019-01-04   108.29     0.002034        0.053414    0.02570\n",
       "2019-01-07   108.62     0.003043        0.053559    0.02580\n",
       "...             ...          ...             ...        ...\n",
       "2024-03-25   151.42     0.000462        0.100431    0.05000\n",
       "2024-03-26   151.58     0.001056        0.100328    0.05000\n",
       "2024-03-27   151.35    -0.001519        0.098375    0.04990\n",
       "2024-03-28   151.35     0.000000        0.098372    0.05030\n",
       "2024-03-29   151.22    -0.000859        0.098383    0.05045\n",
       "\n",
       "[1369 rows x 4 columns]"
      ]
     },
     "execution_count": 45,
     "metadata": {},
     "output_type": "execute_result"
    }
   ],
   "source": [
    "fx_data = fx_data.reindex(us_1y.index)\n",
    "fx_data['US 1 year']= us_1y['DGS1']\n",
    "fx_data"
   ]
  },
  {
   "cell_type": "code",
   "execution_count": 46,
   "id": "e540a615",
   "metadata": {
    "colab": {
     "base_uri": "https://localhost:8080/",
     "height": 454
    },
    "id": "e540a615",
    "outputId": "d2ce432a-7461-4efe-f8fa-aa4b5cbbedfa"
   },
   "outputs": [
    {
     "data": {
      "text/html": [
       "<div>\n",
       "<style scoped>\n",
       "    .dataframe tbody tr th:only-of-type {\n",
       "        vertical-align: middle;\n",
       "    }\n",
       "\n",
       "    .dataframe tbody tr th {\n",
       "        vertical-align: top;\n",
       "    }\n",
       "\n",
       "    .dataframe thead th {\n",
       "        text-align: right;\n",
       "    }\n",
       "</style>\n",
       "<table border=\"1\" class=\"dataframe\">\n",
       "  <thead>\n",
       "    <tr style=\"text-align: right;\">\n",
       "      <th></th>\n",
       "      <th>DEXJPUS</th>\n",
       "      <th>Log_Returns</th>\n",
       "      <th>Historical_Vol</th>\n",
       "      <th>US 1 year</th>\n",
       "      <th>JPY 1 year</th>\n",
       "    </tr>\n",
       "    <tr>\n",
       "      <th>Date</th>\n",
       "      <th></th>\n",
       "      <th></th>\n",
       "      <th></th>\n",
       "      <th></th>\n",
       "      <th></th>\n",
       "    </tr>\n",
       "  </thead>\n",
       "  <tbody>\n",
       "    <tr>\n",
       "      <th>2019-01-04</th>\n",
       "      <td>108.29</td>\n",
       "      <td>0.002034</td>\n",
       "      <td>0.053414</td>\n",
       "      <td>0.02570</td>\n",
       "      <td>-0.00173</td>\n",
       "    </tr>\n",
       "    <tr>\n",
       "      <th>2019-01-07</th>\n",
       "      <td>108.62</td>\n",
       "      <td>0.003043</td>\n",
       "      <td>0.053559</td>\n",
       "      <td>0.02580</td>\n",
       "      <td>-0.00162</td>\n",
       "    </tr>\n",
       "    <tr>\n",
       "      <th>2019-01-08</th>\n",
       "      <td>108.57</td>\n",
       "      <td>-0.000460</td>\n",
       "      <td>0.053415</td>\n",
       "      <td>0.02600</td>\n",
       "      <td>-0.00146</td>\n",
       "    </tr>\n",
       "    <tr>\n",
       "      <th>2019-01-09</th>\n",
       "      <td>108.38</td>\n",
       "      <td>-0.001752</td>\n",
       "      <td>0.053462</td>\n",
       "      <td>0.02590</td>\n",
       "      <td>-0.00144</td>\n",
       "    </tr>\n",
       "    <tr>\n",
       "      <th>2019-01-10</th>\n",
       "      <td>108.29</td>\n",
       "      <td>-0.000831</td>\n",
       "      <td>0.052774</td>\n",
       "      <td>0.02590</td>\n",
       "      <td>-0.00147</td>\n",
       "    </tr>\n",
       "    <tr>\n",
       "      <th>...</th>\n",
       "      <td>...</td>\n",
       "      <td>...</td>\n",
       "      <td>...</td>\n",
       "      <td>...</td>\n",
       "      <td>...</td>\n",
       "    </tr>\n",
       "    <tr>\n",
       "      <th>2024-03-25</th>\n",
       "      <td>151.42</td>\n",
       "      <td>0.000462</td>\n",
       "      <td>0.100431</td>\n",
       "      <td>0.05000</td>\n",
       "      <td>0.00063</td>\n",
       "    </tr>\n",
       "    <tr>\n",
       "      <th>2024-03-26</th>\n",
       "      <td>151.58</td>\n",
       "      <td>0.001056</td>\n",
       "      <td>0.100328</td>\n",
       "      <td>0.05000</td>\n",
       "      <td>0.00063</td>\n",
       "    </tr>\n",
       "    <tr>\n",
       "      <th>2024-03-27</th>\n",
       "      <td>151.35</td>\n",
       "      <td>-0.001519</td>\n",
       "      <td>0.098375</td>\n",
       "      <td>0.04990</td>\n",
       "      <td>0.00055</td>\n",
       "    </tr>\n",
       "    <tr>\n",
       "      <th>2024-03-28</th>\n",
       "      <td>151.35</td>\n",
       "      <td>0.000000</td>\n",
       "      <td>0.098372</td>\n",
       "      <td>0.05030</td>\n",
       "      <td>0.00054</td>\n",
       "    </tr>\n",
       "    <tr>\n",
       "      <th>2024-03-29</th>\n",
       "      <td>151.22</td>\n",
       "      <td>-0.000859</td>\n",
       "      <td>0.098383</td>\n",
       "      <td>0.05045</td>\n",
       "      <td>0.00054</td>\n",
       "    </tr>\n",
       "  </tbody>\n",
       "</table>\n",
       "<p>1277 rows × 5 columns</p>\n",
       "</div>"
      ],
      "text/plain": [
       "            DEXJPUS  Log_Returns  Historical_Vol  US 1 year  JPY 1 year\n",
       "Date                                                                   \n",
       "2019-01-04   108.29     0.002034        0.053414    0.02570    -0.00173\n",
       "2019-01-07   108.62     0.003043        0.053559    0.02580    -0.00162\n",
       "2019-01-08   108.57    -0.000460        0.053415    0.02600    -0.00146\n",
       "2019-01-09   108.38    -0.001752        0.053462    0.02590    -0.00144\n",
       "2019-01-10   108.29    -0.000831        0.052774    0.02590    -0.00147\n",
       "...             ...          ...             ...        ...         ...\n",
       "2024-03-25   151.42     0.000462        0.100431    0.05000     0.00063\n",
       "2024-03-26   151.58     0.001056        0.100328    0.05000     0.00063\n",
       "2024-03-27   151.35    -0.001519        0.098375    0.04990     0.00055\n",
       "2024-03-28   151.35     0.000000        0.098372    0.05030     0.00054\n",
       "2024-03-29   151.22    -0.000859        0.098383    0.05045     0.00054\n",
       "\n",
       "[1277 rows x 5 columns]"
      ]
     },
     "execution_count": 46,
     "metadata": {},
     "output_type": "execute_result"
    }
   ],
   "source": [
    "fx_data = fx_data.reindex(japan_1y_rf.index)\n",
    "fx_data['JPY 1 year'] = japan_1y_rf\n",
    "fx_data"
   ]
  },
  {
   "cell_type": "code",
   "execution_count": 47,
   "id": "a3f01f1e",
   "metadata": {
    "colab": {
     "base_uri": "https://localhost:8080/"
    },
    "id": "a3f01f1e",
    "outputId": "da76491a-bfe4-43d9-ee8d-fe90f02f0ce8"
   },
   "outputs": [
    {
     "data": {
      "text/plain": [
       "DEXJPUS           0\n",
       "Log_Returns       0\n",
       "Historical_Vol    0\n",
       "dtype: int64"
      ]
     },
     "execution_count": 47,
     "metadata": {},
     "output_type": "execute_result"
    }
   ],
   "source": [
    "nan_counts_fx_data = fx_data.isna().sum()\n",
    "nan_counts"
   ]
  },
  {
   "cell_type": "markdown",
   "id": "acfa0b10",
   "metadata": {
    "id": "acfa0b10"
   },
   "source": [
    "# Heston Model"
   ]
  },
  {
   "cell_type": "code",
   "execution_count": 48,
   "id": "f33d2b87",
   "metadata": {
    "id": "f33d2b87"
   },
   "outputs": [],
   "source": [
    "def Heston_paths(N, paths, T, S0, v0, mu, rho, kappa, theta, sigma):\n",
    "    \"\"\"\n",
    "    Generates random values of stock S and variance v at maturity T using the Heston model.\n",
    "    This function uses the \"abs\" method for the variance.\n",
    "\n",
    "    Parameters:\n",
    "    int N = time steps\n",
    "    int paths = number of paths\n",
    "    double T = maturity\n",
    "    double S0 = spot price\n",
    "    double v0 = spot variance\n",
    "    double mu = drift\n",
    "    double rho = correlation coefficient\n",
    "    double kappa = mean reversion coefficient\n",
    "    double theta = long-term variance\n",
    "    double sigma = Vol of Vol - Volatility of instantaneous variance\n",
    "\n",
    "    Returns:\n",
    "    Two arrays of size equal to \"paths\".\n",
    "    \"\"\"\n",
    "    np.random.seed(42)\n",
    "    dt = T / (N - 1)\n",
    "    dt_sq = np.sqrt(dt)\n",
    "\n",
    "    # Check the Feller condition\n",
    "    assert 2 * kappa * theta > sigma ** 2, \"Feller condition is not satisfied.\"\n",
    "\n",
    "    v_T = np.zeros(paths)   # Values of v at T\n",
    "    S_T = np.zeros(paths)   # Values of S at T\n",
    "\n",
    "    for path in range(paths):\n",
    "        # Generate random Brownian Motions\n",
    "        W_S_arr = np.random.normal(loc=0, scale=np.sqrt(dt), size=N)\n",
    "        W_v_arr = rho * W_S_arr + np.sqrt(1 - rho**2) * np.random.normal(loc=0, scale=np.sqrt(dt), size=N)\n",
    "\n",
    "        S = np.zeros(N)\n",
    "        v = np.zeros(N)\n",
    "        S[0] = S0\n",
    "        v[0] = v0\n",
    "\n",
    "        for t in range(N - 1):\n",
    "            v[t + 1] = np.abs(v[t] + kappa * (theta - v[t]) * dt + sigma * np.sqrt(v[t]) * dt_sq * W_v_arr[t])\n",
    "            S[t + 1] = S[t] * np.exp((mu - 0.5 * v[t]) * dt + np.sqrt(v[t]) * dt_sq * W_S_arr[t])\n",
    "\n",
    "        S_T[path] = S[-1]\n",
    "        v_T[path] = v[-1]\n",
    "\n",
    "    return S_T, v_T"
   ]
  },
  {
   "cell_type": "code",
   "execution_count": 49,
   "id": "57fb9fe2",
   "metadata": {
    "id": "57fb9fe2"
   },
   "outputs": [],
   "source": [
    "spot_rates = fx_data['DEXJPUS'].values\n",
    "risk_free_rates_usd = fx_data['US 1 year'].values\n",
    "risk_free_rates_jpy = fx_data['JPY 1 year'].values\n",
    "risk_free_rate_diff = risk_free_rates_usd#risk_free_rates_usd - risk_free_rates_jpy\n",
    "historical_vol = fx_data['Historical_Vol'].values"
   ]
  },
  {
   "cell_type": "code",
   "execution_count": 50,
   "id": "94d86a25",
   "metadata": {
    "id": "94d86a25"
   },
   "outputs": [],
   "source": [
    "r = 0.05  # drift\n",
    "rho = -0.8  # correlation coefficient\n",
    "kappa = 3  # mean reversion coefficient\n",
    "theta = 0.1  # long-term mean of the variance\n",
    "sigma = 0.25  # (Vol of Vol) - Volatility of instantaneous variance\n",
    "T = 1  # Terminal time\n",
    "K = 104.81  # Stike\n",
    "v0 = 0.08  # spot variance\n",
    "S0 = 108.29  # spot stock price\n",
    "s1=[]\n",
    "s2=[]\n",
    "s3=[]\n",
    "s4=[]\n",
    "s5=[]\n",
    "s6=[]"
   ]
  },
  {
   "cell_type": "code",
   "execution_count": 51,
   "id": "d5e4120a",
   "metadata": {
    "id": "d5e4120a"
   },
   "outputs": [],
   "source": [
    "for i in range (len(spot_rates)):\n",
    "    S, v = Heston_paths(N=100, paths=100, T=T, S0=spot_rates[i], v0=v0, mu=risk_free_rate_diff[i], rho=rho, kappa=kappa, theta=theta, sigma=risk_free_rate_diff[i])\n",
    "    DiscountedPayoff1 = np.exp(-r * T) * np.maximum(S - 100, 0)\n",
    "    DiscountedPayoff2 = np.exp(-r * T) * np.maximum(S -105, 0)\n",
    "    DiscountedPayoff3 = np.exp(-r * T) * np.maximum(S - 110, 0)\n",
    "    DiscountedPayoff4 = np.exp(-r * T) * np.maximum(S - 115, 0)\n",
    "    DiscountedPayoff5 = np.exp(-r * T) * np.maximum(S - 120, 0)\n",
    "    DiscountedPayoff6 = np.exp(-r * T) * np.maximum(S - 143.18, 0)\n",
    "    V1 = np.mean(DiscountedPayoff1)\n",
    "    V2 = np.mean(DiscountedPayoff2)\n",
    "    V3 = np.mean(DiscountedPayoff3)\n",
    "    V4 = np.mean(DiscountedPayoff4)\n",
    "    V5 = np.mean(DiscountedPayoff5)\n",
    "    V6 = np.mean(DiscountedPayoff6)\n",
    "    s1.append(V1)\n",
    "    s2.append(V2)\n",
    "    s3.append(V3)\n",
    "    s4.append(V4)\n",
    "    s5.append(V5)\n",
    "    s6.append(V6)"
   ]
  },
  {
   "cell_type": "code",
   "execution_count": 52,
   "id": "4fdf0c66",
   "metadata": {
    "id": "4fdf0c66"
   },
   "outputs": [],
   "source": [
    "pay_off = pd.DataFrame()"
   ]
  },
  {
   "cell_type": "code",
   "execution_count": 53,
   "id": "f120565d",
   "metadata": {
    "id": "f120565d"
   },
   "outputs": [],
   "source": [
    "pay_off['Date'] = fx_data.index\n",
    "pay_off['spot']=spot_rates\n",
    "pay_off['strike @ 100'] = s1\n",
    "pay_off['strike @ 105'] = s2\n",
    "pay_off['strike @ 110'] = s3\n",
    "pay_off['strike @ 115'] = s4\n",
    "pay_off['strike @ 120'] = s5\n",
    "pay_off['strike @ 143.18'] = s6"
   ]
  },
  {
   "cell_type": "code",
   "execution_count": 75,
   "id": "ddd799d5",
   "metadata": {
    "colab": {
     "base_uri": "https://localhost:8080/",
     "height": 424
    },
    "id": "ddd799d5",
    "outputId": "6e880bef-92b0-421a-86de-68188418c5ba"
   },
   "outputs": [
    {
     "data": {
      "text/html": [
       "<div>\n",
       "<style scoped>\n",
       "    .dataframe tbody tr th:only-of-type {\n",
       "        vertical-align: middle;\n",
       "    }\n",
       "\n",
       "    .dataframe tbody tr th {\n",
       "        vertical-align: top;\n",
       "    }\n",
       "\n",
       "    .dataframe thead th {\n",
       "        text-align: right;\n",
       "    }\n",
       "</style>\n",
       "<table border=\"1\" class=\"dataframe\">\n",
       "  <thead>\n",
       "    <tr style=\"text-align: right;\">\n",
       "      <th></th>\n",
       "      <th>spot</th>\n",
       "      <th>strike @ 100</th>\n",
       "      <th>strike @ 105</th>\n",
       "      <th>strike @ 110</th>\n",
       "      <th>strike @ 115</th>\n",
       "      <th>strike @ 120</th>\n",
       "      <th>strike @ 143.18</th>\n",
       "    </tr>\n",
       "    <tr>\n",
       "      <th>Date</th>\n",
       "      <th></th>\n",
       "      <th></th>\n",
       "      <th></th>\n",
       "      <th></th>\n",
       "      <th></th>\n",
       "      <th></th>\n",
       "      <th></th>\n",
       "    </tr>\n",
       "  </thead>\n",
       "  <tbody>\n",
       "    <tr>\n",
       "      <th>2019-01-04</th>\n",
       "      <td>108.29</td>\n",
       "      <td>6.179477</td>\n",
       "      <td>2.136572</td>\n",
       "      <td>0.310566</td>\n",
       "      <td>0.000000</td>\n",
       "      <td>0.000000</td>\n",
       "      <td>0.000000</td>\n",
       "    </tr>\n",
       "    <tr>\n",
       "      <th>2019-01-07</th>\n",
       "      <td>108.62</td>\n",
       "      <td>6.491332</td>\n",
       "      <td>2.352450</td>\n",
       "      <td>0.369220</td>\n",
       "      <td>0.001973</td>\n",
       "      <td>0.000000</td>\n",
       "      <td>0.000000</td>\n",
       "    </tr>\n",
       "    <tr>\n",
       "      <th>2019-01-08</th>\n",
       "      <td>108.57</td>\n",
       "      <td>6.465380</td>\n",
       "      <td>2.334444</td>\n",
       "      <td>0.363958</td>\n",
       "      <td>0.001688</td>\n",
       "      <td>0.000000</td>\n",
       "      <td>0.000000</td>\n",
       "    </tr>\n",
       "    <tr>\n",
       "      <th>2019-01-09</th>\n",
       "      <td>108.38</td>\n",
       "      <td>6.281021</td>\n",
       "      <td>2.206492</td>\n",
       "      <td>0.329240</td>\n",
       "      <td>0.000000</td>\n",
       "      <td>0.000000</td>\n",
       "      <td>0.000000</td>\n",
       "    </tr>\n",
       "    <tr>\n",
       "      <th>2019-01-10</th>\n",
       "      <td>108.29</td>\n",
       "      <td>6.199183</td>\n",
       "      <td>2.149919</td>\n",
       "      <td>0.314195</td>\n",
       "      <td>0.000000</td>\n",
       "      <td>0.000000</td>\n",
       "      <td>0.000000</td>\n",
       "    </tr>\n",
       "    <tr>\n",
       "      <th>...</th>\n",
       "      <td>...</td>\n",
       "      <td>...</td>\n",
       "      <td>...</td>\n",
       "      <td>...</td>\n",
       "      <td>...</td>\n",
       "      <td>...</td>\n",
       "      <td>...</td>\n",
       "    </tr>\n",
       "    <tr>\n",
       "      <th>2024-03-25</th>\n",
       "      <td>151.42</td>\n",
       "      <td>49.967939</td>\n",
       "      <td>45.211792</td>\n",
       "      <td>40.455645</td>\n",
       "      <td>35.699497</td>\n",
       "      <td>30.943350</td>\n",
       "      <td>8.936662</td>\n",
       "    </tr>\n",
       "    <tr>\n",
       "      <th>2024-03-26</th>\n",
       "      <td>151.58</td>\n",
       "      <td>50.121251</td>\n",
       "      <td>45.365104</td>\n",
       "      <td>40.608957</td>\n",
       "      <td>35.852810</td>\n",
       "      <td>31.096663</td>\n",
       "      <td>9.086078</td>\n",
       "    </tr>\n",
       "    <tr>\n",
       "      <th>2024-03-27</th>\n",
       "      <td>151.35</td>\n",
       "      <td>49.886358</td>\n",
       "      <td>45.130211</td>\n",
       "      <td>40.374063</td>\n",
       "      <td>35.617916</td>\n",
       "      <td>30.861769</td>\n",
       "      <td>8.857349</td>\n",
       "    </tr>\n",
       "    <tr>\n",
       "      <th>2024-03-28</th>\n",
       "      <td>151.35</td>\n",
       "      <td>49.944394</td>\n",
       "      <td>45.188247</td>\n",
       "      <td>40.432100</td>\n",
       "      <td>35.675953</td>\n",
       "      <td>30.919806</td>\n",
       "      <td>8.913790</td>\n",
       "    </tr>\n",
       "    <tr>\n",
       "      <th>2024-03-29</th>\n",
       "      <td>151.22</td>\n",
       "      <td>49.841542</td>\n",
       "      <td>45.085395</td>\n",
       "      <td>40.329248</td>\n",
       "      <td>35.573101</td>\n",
       "      <td>30.816953</td>\n",
       "      <td>8.814041</td>\n",
       "    </tr>\n",
       "  </tbody>\n",
       "</table>\n",
       "<p>1277 rows × 7 columns</p>\n",
       "</div>"
      ],
      "text/plain": [
       "              spot  strike @ 100  strike @ 105  strike @ 110  strike @ 115  \\\n",
       "Date                                                                         \n",
       "2019-01-04  108.29      6.179477      2.136572      0.310566      0.000000   \n",
       "2019-01-07  108.62      6.491332      2.352450      0.369220      0.001973   \n",
       "2019-01-08  108.57      6.465380      2.334444      0.363958      0.001688   \n",
       "2019-01-09  108.38      6.281021      2.206492      0.329240      0.000000   \n",
       "2019-01-10  108.29      6.199183      2.149919      0.314195      0.000000   \n",
       "...            ...           ...           ...           ...           ...   \n",
       "2024-03-25  151.42     49.967939     45.211792     40.455645     35.699497   \n",
       "2024-03-26  151.58     50.121251     45.365104     40.608957     35.852810   \n",
       "2024-03-27  151.35     49.886358     45.130211     40.374063     35.617916   \n",
       "2024-03-28  151.35     49.944394     45.188247     40.432100     35.675953   \n",
       "2024-03-29  151.22     49.841542     45.085395     40.329248     35.573101   \n",
       "\n",
       "            strike @ 120  strike @ 143.18  \n",
       "Date                                       \n",
       "2019-01-04      0.000000         0.000000  \n",
       "2019-01-07      0.000000         0.000000  \n",
       "2019-01-08      0.000000         0.000000  \n",
       "2019-01-09      0.000000         0.000000  \n",
       "2019-01-10      0.000000         0.000000  \n",
       "...                  ...              ...  \n",
       "2024-03-25     30.943350         8.936662  \n",
       "2024-03-26     31.096663         9.086078  \n",
       "2024-03-27     30.861769         8.857349  \n",
       "2024-03-28     30.919806         8.913790  \n",
       "2024-03-29     30.816953         8.814041  \n",
       "\n",
       "[1277 rows x 7 columns]"
      ]
     },
     "execution_count": 75,
     "metadata": {},
     "output_type": "execute_result"
    }
   ],
   "source": [
    "pay_off = index(pay_off,'Date')\n",
    "pay_off"
   ]
  },
  {
   "cell_type": "markdown",
   "id": "G9RBz27JNdcO",
   "metadata": {
    "id": "G9RBz27JNdcO"
   },
   "source": [
    "Garmen kolhagen 1"
   ]
  },
  {
   "cell_type": "code",
   "execution_count": 55,
   "id": "G6sQz48HNhsU",
   "metadata": {
    "id": "G6sQz48HNhsU"
   },
   "outputs": [],
   "source": [
    "import numpy as np\n",
    "from scipy.stats import norm\n",
    "\n",
    "def black_scholes_call(S, K, r, T, sigma):\n",
    "    d1 = (np.log(S / K) + (r + 0.5 * sigma ** 2) * T) / (sigma * np.sqrt(T))\n",
    "    d2 = d1 - sigma * np.sqrt(T)\n",
    "    return S * norm.cdf(d1) - K * np.exp(-r * T) * norm.cdf(d2)\n",
    "\n",
    "def black_scholes_put(S, K, r, T, sigma):\n",
    "    d1 = (np.log(S / K) + (r + 0.5 * sigma ** 2) * T) / (sigma * np.sqrt(T))\n",
    "    d2 = d1 - sigma * np.sqrt(T)\n",
    "    return K * np.exp(-r * T) * norm.cdf(-d2) - S * norm.cdf(-d1)\n",
    "\n",
    "def garman_kohlhagen_call(S, K, r_domestic, r_foreign, T, sigma):\n",
    "    fwd = S * np.exp((r_foreign - r_domestic) * T)\n",
    "    return black_scholes_call(fwd, K, r_domestic, T, sigma)\n",
    "\n",
    "def garman_kohlhagen_put(S, K, r_domestic, r_foreign, T, sigma):\n",
    "    fwd = S * np.exp((r_foreign - r_domestic) * T)\n",
    "    return black_scholes_put(fwd, K, r_domestic, T, sigma)\n"
   ]
  },
  {
   "cell_type": "code",
   "execution_count": 69,
   "id": "QD_TVIRiNiOc",
   "metadata": {
    "colab": {
     "base_uri": "https://localhost:8080/"
    },
    "id": "QD_TVIRiNiOc",
    "outputId": "10f8617b-b3a1-4533-d9cb-c80042678b1a"
   },
   "outputs": [
    {
     "name": "stdout",
     "output_type": "stream",
     "text": [
      "            call_price_100  put_price_100  call_price_105  put_price_105  \\\n",
      "2019-01-04        8.071372       0.174141        4.045535       1.021441   \n",
      "2019-01-07        8.383495       0.154390        4.291737       0.935282   \n",
      "2019-01-08        8.350184       0.154463        4.262563       0.938518   \n",
      "2019-01-09        8.180581       0.166804        4.131461       0.989847   \n",
      "2019-01-10        8.086529       0.163486        4.041635       0.990754   \n",
      "...                    ...            ...             ...            ...   \n",
      "2024-03-25       49.003033       0.000045       44.247222       0.000381   \n",
      "2024-03-26       49.155323       0.000042       44.399493       0.000359   \n",
      "2024-03-27       48.929759       0.000031       44.173384       0.000278   \n",
      "2024-03-28       48.908751       0.000031       44.154278       0.000278   \n",
      "2024-03-29       48.777745       0.000032       44.023995       0.000289   \n",
      "\n",
      "            call_price_110  put_price_110  call_price_115  put_price_115  \\\n",
      "2019-01-04        1.459061       3.308105        0.354671       7.076851   \n",
      "2019-01-07        1.595872       3.112067        0.403110       6.791955   \n",
      "2019-01-08        1.576819       3.124449        0.395120       6.814426   \n",
      "2019-01-09        1.506374       3.236922        0.371194       6.973905   \n",
      "2019-01-10        1.443528       3.264810        0.343997       7.037442   \n",
      "...                    ...            ...             ...            ...   \n",
      "2024-03-25       39.493077       0.002383       34.746036       0.011489   \n",
      "2024-03-26       39.645249       0.002263       34.897825       0.010986   \n",
      "2024-03-27       39.418341       0.001859       34.669326       0.009466   \n",
      "2024-03-28       39.401137       0.001858       34.654022       0.009463   \n",
      "2024-03-29       39.271620       0.001921       34.525441       0.009749   \n",
      "\n",
      "            call_price_120  put_price_120  call_price_143.18  put_price_143.18  \n",
      "2019-01-04        0.056773      11.652091       8.261822e-08         34.187182  \n",
      "2019-01-07        0.067434      11.328929       1.247218e-07         33.851100  \n",
      "2019-01-08        0.065383      11.356364       1.115076e-07         33.876069  \n",
      "2019-01-09        0.060351      11.535224       9.552166e-08         34.062220  \n",
      "2019-01-10        0.053367      11.618974       5.857759e-08         34.152953  \n",
      "...                    ...            ...                ...               ...  \n",
      "2024-03-25       30.022576       0.044177       1.044494e+01          2.516041  \n",
      "2024-03-26       30.173195       0.042503       1.055153e+01          2.470341  \n",
      "2024-03-27       29.941322       0.038085       1.029108e+01          2.439544  \n",
      "2024-03-28       29.927910       0.038072       1.028577e+01          2.438821  \n",
      "2024-03-29       29.800772       0.039088       1.019441e+01          2.472300  \n",
      "\n",
      "[1277 rows x 12 columns]\n"
     ]
    }
   ],
   "source": [
    "spot_rates = fx_data['DEXJPUS'].values\n",
    "risk_free_rates_usd = fx_data['US 1 year'].values\n",
    "risk_free_rates_jpy = fx_data['JPY 1 year'].values\n",
    "risk_free_rate_diff = risk_free_rates_usd - risk_free_rates_jpy\n",
    "historical_vol = fx_data['Historical_Vol'].values\n",
    "time_to_maturity = 1  # Time to maturity in years\n",
    "specific_strikes = [100, 105, 110, 115,120,143.18]\n",
    "#specific_strikes= [143.18,100]\n",
    "dates = []  # Dates as index\n",
    "call_prices = {}  # Dictionary to store call prices for each strike\n",
    "put_prices = {}   # Dictionary to store put prices for each strike\n",
    "\n",
    "# Parameters for Garman-Kohlhagen model\n",
    "for date, spot_rate, r_usd, r_jpy, vol in zip(fx_data.index, spot_rates, risk_free_rates_usd, risk_free_rates_jpy, historical_vol):\n",
    "    dates.append(date)\n",
    "    for strike in specific_strikes:\n",
    "        call_price = garman_kohlhagen_call(spot_rate, strike, r_usd, r_jpy, time_to_maturity, vol)\n",
    "        put_price = garman_kohlhagen_put(spot_rate, strike, r_usd, r_jpy, time_to_maturity, vol)\n",
    "\n",
    "        # Append call and put prices to respective dictionaries\n",
    "        call_prices.setdefault(strike, []).append(call_price)\n",
    "        put_prices.setdefault(strike, []).append(put_price)\n",
    "\n",
    "# Create DataFrame from the collected data\n",
    "df_bsgk = pd.DataFrame(index=dates)\n",
    "for strike in specific_strikes:\n",
    "    df_bsgk[f\"call_price_{strike}\"] = call_prices[strike]\n",
    "    df_bsgk[f\"put_price_{strike}\"] = put_prices[strike]\n",
    "\n",
    "# Display DataFrame\n",
    "print(df_bsgk)"
   ]
  },
  {
   "cell_type": "code",
   "execution_count": 70,
   "id": "V14E3bv6NkcK",
   "metadata": {
    "colab": {
     "base_uri": "https://localhost:8080/",
     "height": 424
    },
    "id": "V14E3bv6NkcK",
    "outputId": "8880be85-e958-4d47-9f3e-13d2cd1d6c7e"
   },
   "outputs": [
    {
     "data": {
      "text/html": [
       "<div>\n",
       "<style scoped>\n",
       "    .dataframe tbody tr th:only-of-type {\n",
       "        vertical-align: middle;\n",
       "    }\n",
       "\n",
       "    .dataframe tbody tr th {\n",
       "        vertical-align: top;\n",
       "    }\n",
       "\n",
       "    .dataframe thead th {\n",
       "        text-align: right;\n",
       "    }\n",
       "</style>\n",
       "<table border=\"1\" class=\"dataframe\">\n",
       "  <thead>\n",
       "    <tr style=\"text-align: right;\">\n",
       "      <th></th>\n",
       "      <th>call_price_100</th>\n",
       "      <th>put_price_100</th>\n",
       "      <th>call_price_105</th>\n",
       "      <th>put_price_105</th>\n",
       "      <th>call_price_110</th>\n",
       "      <th>put_price_110</th>\n",
       "      <th>call_price_115</th>\n",
       "      <th>put_price_115</th>\n",
       "      <th>call_price_120</th>\n",
       "      <th>put_price_120</th>\n",
       "      <th>call_price_143.18</th>\n",
       "      <th>put_price_143.18</th>\n",
       "    </tr>\n",
       "  </thead>\n",
       "  <tbody>\n",
       "    <tr>\n",
       "      <th>2019-01-04</th>\n",
       "      <td>8.071372</td>\n",
       "      <td>0.174141</td>\n",
       "      <td>4.045535</td>\n",
       "      <td>1.021441</td>\n",
       "      <td>1.459061</td>\n",
       "      <td>3.308105</td>\n",
       "      <td>0.354671</td>\n",
       "      <td>7.076851</td>\n",
       "      <td>0.056773</td>\n",
       "      <td>11.652091</td>\n",
       "      <td>8.261822e-08</td>\n",
       "      <td>34.187182</td>\n",
       "    </tr>\n",
       "    <tr>\n",
       "      <th>2019-01-07</th>\n",
       "      <td>8.383495</td>\n",
       "      <td>0.154390</td>\n",
       "      <td>4.291737</td>\n",
       "      <td>0.935282</td>\n",
       "      <td>1.595872</td>\n",
       "      <td>3.112067</td>\n",
       "      <td>0.403110</td>\n",
       "      <td>6.791955</td>\n",
       "      <td>0.067434</td>\n",
       "      <td>11.328929</td>\n",
       "      <td>1.247218e-07</td>\n",
       "      <td>33.851100</td>\n",
       "    </tr>\n",
       "    <tr>\n",
       "      <th>2019-01-08</th>\n",
       "      <td>8.350184</td>\n",
       "      <td>0.154463</td>\n",
       "      <td>4.262563</td>\n",
       "      <td>0.938518</td>\n",
       "      <td>1.576819</td>\n",
       "      <td>3.124449</td>\n",
       "      <td>0.395120</td>\n",
       "      <td>6.814426</td>\n",
       "      <td>0.065383</td>\n",
       "      <td>11.356364</td>\n",
       "      <td>1.115076e-07</td>\n",
       "      <td>33.876069</td>\n",
       "    </tr>\n",
       "    <tr>\n",
       "      <th>2019-01-09</th>\n",
       "      <td>8.180581</td>\n",
       "      <td>0.166804</td>\n",
       "      <td>4.131461</td>\n",
       "      <td>0.989847</td>\n",
       "      <td>1.506374</td>\n",
       "      <td>3.236922</td>\n",
       "      <td>0.371194</td>\n",
       "      <td>6.973905</td>\n",
       "      <td>0.060351</td>\n",
       "      <td>11.535224</td>\n",
       "      <td>9.552166e-08</td>\n",
       "      <td>34.062220</td>\n",
       "    </tr>\n",
       "    <tr>\n",
       "      <th>2019-01-10</th>\n",
       "      <td>8.086529</td>\n",
       "      <td>0.163486</td>\n",
       "      <td>4.041635</td>\n",
       "      <td>0.990754</td>\n",
       "      <td>1.443528</td>\n",
       "      <td>3.264810</td>\n",
       "      <td>0.343997</td>\n",
       "      <td>7.037442</td>\n",
       "      <td>0.053367</td>\n",
       "      <td>11.618974</td>\n",
       "      <td>5.857759e-08</td>\n",
       "      <td>34.152953</td>\n",
       "    </tr>\n",
       "    <tr>\n",
       "      <th>...</th>\n",
       "      <td>...</td>\n",
       "      <td>...</td>\n",
       "      <td>...</td>\n",
       "      <td>...</td>\n",
       "      <td>...</td>\n",
       "      <td>...</td>\n",
       "      <td>...</td>\n",
       "      <td>...</td>\n",
       "      <td>...</td>\n",
       "      <td>...</td>\n",
       "      <td>...</td>\n",
       "      <td>...</td>\n",
       "    </tr>\n",
       "    <tr>\n",
       "      <th>2024-03-25</th>\n",
       "      <td>49.003033</td>\n",
       "      <td>0.000045</td>\n",
       "      <td>44.247222</td>\n",
       "      <td>0.000381</td>\n",
       "      <td>39.493077</td>\n",
       "      <td>0.002383</td>\n",
       "      <td>34.746036</td>\n",
       "      <td>0.011489</td>\n",
       "      <td>30.022576</td>\n",
       "      <td>0.044177</td>\n",
       "      <td>1.044494e+01</td>\n",
       "      <td>2.516041</td>\n",
       "    </tr>\n",
       "    <tr>\n",
       "      <th>2024-03-26</th>\n",
       "      <td>49.155323</td>\n",
       "      <td>0.000042</td>\n",
       "      <td>44.399493</td>\n",
       "      <td>0.000359</td>\n",
       "      <td>39.645249</td>\n",
       "      <td>0.002263</td>\n",
       "      <td>34.897825</td>\n",
       "      <td>0.010986</td>\n",
       "      <td>30.173195</td>\n",
       "      <td>0.042503</td>\n",
       "      <td>1.055153e+01</td>\n",
       "      <td>2.470341</td>\n",
       "    </tr>\n",
       "    <tr>\n",
       "      <th>2024-03-27</th>\n",
       "      <td>48.929759</td>\n",
       "      <td>0.000031</td>\n",
       "      <td>44.173384</td>\n",
       "      <td>0.000278</td>\n",
       "      <td>39.418341</td>\n",
       "      <td>0.001859</td>\n",
       "      <td>34.669326</td>\n",
       "      <td>0.009466</td>\n",
       "      <td>29.941322</td>\n",
       "      <td>0.038085</td>\n",
       "      <td>1.029108e+01</td>\n",
       "      <td>2.439544</td>\n",
       "    </tr>\n",
       "    <tr>\n",
       "      <th>2024-03-28</th>\n",
       "      <td>48.908751</td>\n",
       "      <td>0.000031</td>\n",
       "      <td>44.154278</td>\n",
       "      <td>0.000278</td>\n",
       "      <td>39.401137</td>\n",
       "      <td>0.001858</td>\n",
       "      <td>34.654022</td>\n",
       "      <td>0.009463</td>\n",
       "      <td>29.927910</td>\n",
       "      <td>0.038072</td>\n",
       "      <td>1.028577e+01</td>\n",
       "      <td>2.438821</td>\n",
       "    </tr>\n",
       "    <tr>\n",
       "      <th>2024-03-29</th>\n",
       "      <td>48.777745</td>\n",
       "      <td>0.000032</td>\n",
       "      <td>44.023995</td>\n",
       "      <td>0.000289</td>\n",
       "      <td>39.271620</td>\n",
       "      <td>0.001921</td>\n",
       "      <td>34.525441</td>\n",
       "      <td>0.009749</td>\n",
       "      <td>29.800772</td>\n",
       "      <td>0.039088</td>\n",
       "      <td>1.019441e+01</td>\n",
       "      <td>2.472300</td>\n",
       "    </tr>\n",
       "  </tbody>\n",
       "</table>\n",
       "<p>1277 rows × 12 columns</p>\n",
       "</div>"
      ],
      "text/plain": [
       "            call_price_100  put_price_100  call_price_105  put_price_105  \\\n",
       "2019-01-04        8.071372       0.174141        4.045535       1.021441   \n",
       "2019-01-07        8.383495       0.154390        4.291737       0.935282   \n",
       "2019-01-08        8.350184       0.154463        4.262563       0.938518   \n",
       "2019-01-09        8.180581       0.166804        4.131461       0.989847   \n",
       "2019-01-10        8.086529       0.163486        4.041635       0.990754   \n",
       "...                    ...            ...             ...            ...   \n",
       "2024-03-25       49.003033       0.000045       44.247222       0.000381   \n",
       "2024-03-26       49.155323       0.000042       44.399493       0.000359   \n",
       "2024-03-27       48.929759       0.000031       44.173384       0.000278   \n",
       "2024-03-28       48.908751       0.000031       44.154278       0.000278   \n",
       "2024-03-29       48.777745       0.000032       44.023995       0.000289   \n",
       "\n",
       "            call_price_110  put_price_110  call_price_115  put_price_115  \\\n",
       "2019-01-04        1.459061       3.308105        0.354671       7.076851   \n",
       "2019-01-07        1.595872       3.112067        0.403110       6.791955   \n",
       "2019-01-08        1.576819       3.124449        0.395120       6.814426   \n",
       "2019-01-09        1.506374       3.236922        0.371194       6.973905   \n",
       "2019-01-10        1.443528       3.264810        0.343997       7.037442   \n",
       "...                    ...            ...             ...            ...   \n",
       "2024-03-25       39.493077       0.002383       34.746036       0.011489   \n",
       "2024-03-26       39.645249       0.002263       34.897825       0.010986   \n",
       "2024-03-27       39.418341       0.001859       34.669326       0.009466   \n",
       "2024-03-28       39.401137       0.001858       34.654022       0.009463   \n",
       "2024-03-29       39.271620       0.001921       34.525441       0.009749   \n",
       "\n",
       "            call_price_120  put_price_120  call_price_143.18  put_price_143.18  \n",
       "2019-01-04        0.056773      11.652091       8.261822e-08         34.187182  \n",
       "2019-01-07        0.067434      11.328929       1.247218e-07         33.851100  \n",
       "2019-01-08        0.065383      11.356364       1.115076e-07         33.876069  \n",
       "2019-01-09        0.060351      11.535224       9.552166e-08         34.062220  \n",
       "2019-01-10        0.053367      11.618974       5.857759e-08         34.152953  \n",
       "...                    ...            ...                ...               ...  \n",
       "2024-03-25       30.022576       0.044177       1.044494e+01          2.516041  \n",
       "2024-03-26       30.173195       0.042503       1.055153e+01          2.470341  \n",
       "2024-03-27       29.941322       0.038085       1.029108e+01          2.439544  \n",
       "2024-03-28       29.927910       0.038072       1.028577e+01          2.438821  \n",
       "2024-03-29       29.800772       0.039088       1.019441e+01          2.472300  \n",
       "\n",
       "[1277 rows x 12 columns]"
      ]
     },
     "execution_count": 70,
     "metadata": {},
     "output_type": "execute_result"
    }
   ],
   "source": [
    "df_bsgk"
   ]
  },
  {
   "cell_type": "code",
   "execution_count": 71,
   "id": "iszQsxUdQJSI",
   "metadata": {
    "colab": {
     "base_uri": "https://localhost:8080/",
     "height": 644
    },
    "id": "iszQsxUdQJSI",
    "outputId": "afc88cc9-274e-47d2-8732-43f5eeebc686"
   },
   "outputs": [
    {
     "data": {
      "image/png": "[encoded data removed]",
      "text/plain": [
       "<Figure size 1400x700 with 1 Axes>"
      ]
     },
     "metadata": {},
     "output_type": "display_data"
    }
   ],
   "source": [
    "import seaborn as sns\n",
    "\n",
    "plt.figure(figsize=(14,7))\n",
    "plt.plot(fx_data.index, fx_data['DEXJPUS'], label='USD/YEN Prices', color='darkslategrey', linestyle='-')\n",
    "\n",
    "#plt.plot(data_df.index, data_df['corporate_price'], label='Corporate Prices', color='maroon', linestyle='--')\n",
    "\n",
    "# Add labels and title\n",
    "plt.xlabel('Date',fontsize=12, fontweight='bold',fontfamily='serif')\n",
    "plt.ylabel('Spot Price',fontsize=12, fontweight='bold',fontfamily='serif')\n",
    "plt.title('I. Underlying: DEXJPUS Over Time',fontsize=13, fontweight='bold',fontfamily='serif')\n",
    "\n",
    "# Add legend with fancy box border\n",
    "plt.legend(loc='upper left', fancybox=True, framealpha=1, shadow=True, borderpad=1)\n",
    "\n",
    "# Add grid for better readability\n",
    "plt.grid(True, linestyle='--', linewidth=0.5, color='gray', alpha=0.5)\n",
    "\n",
    "# Customize background color\n",
    "plt.gca().set_facecolor('#f7f7f7')\n",
    "\n",
    "# Set seaborn style for better aesthetics\n",
    "sns.set(style=\"whitegrid\")\n",
    "\n",
    "# Show plot\n",
    "plt.show()\n"
   ]
  },
  {
   "cell_type": "code",
   "execution_count": 77,
   "id": "d8PckyA2RyGF",
   "metadata": {
    "colab": {
     "base_uri": "https://localhost:8080/",
     "height": 649
    },
    "id": "d8PckyA2RyGF",
    "outputId": "a34c560d-0f83-45b0-cd86-9d3153a79edb"
   },
   "outputs": [
    {
     "data": {
      "image/png": "[encoded data removed]",
      "text/plain": [
       "<Figure size 1400x700 with 1 Axes>"
      ]
     },
     "metadata": {},
     "output_type": "display_data"
    }
   ],
   "source": [
    "\n",
    "plt.figure(figsize=(14, 7))\n",
    "plt.plot(pay_off.index, pay_off['strike @ 120'], label='Heston Model price', color =\"maroon\")\n",
    "plt.plot(df.index, df['call_price_120'], label='BSGK Model price', linestyle= '--',color =\"darkslategrey\")\n",
    "plt.xlabel('Date',fontsize=12, fontweight='bold',fontfamily='serif')\n",
    "plt.ylabel('Call FX Option Prices ',fontsize=12, fontweight='bold',fontfamily='serif')\n",
    "plt.title('II. FX Option Prices from Heston vs. Garman Kohlhagen at K =120',fontsize=13, fontweight='bold',fontfamily='serif')\n",
    "\n",
    "# Add legend with fancy box border\n",
    "plt.legend(loc='upper left', fancybox=True, framealpha=1, shadow=True, borderpad=1)\n",
    "\n",
    "# Add grid for better readability\n",
    "plt.grid(True, linestyle='--', linewidth=0.5, color='gray', alpha=0.5)\n",
    "\n",
    "# Customize background color\n",
    "plt.gca().set_facecolor('#f7f7f7')\n",
    "\n",
    "# Set seaborn style for better aesthetics\n",
    "sns.set(style=\"whitegrid\")\n",
    "\n",
    "# Show plot\n",
    "plt.show()\n"
   ]
  },
  {
   "cell_type": "code",
   "execution_count": null,
   "id": "hC-XMk75duNU",
   "metadata": {
    "colab": {
     "base_uri": "https://localhost:8080/"
    },
    "id": "hC-XMk75duNU",
    "outputId": "98236def-5e7d-48d9-860c-3f2a4d01783f"
   },
   "outputs": [
    {
     "name": "stdout",
     "output_type": "stream",
     "text": [
      "Collecting whittaker-eilers\n",
      "  Downloading whittaker_eilers-0.1.3-cp37-abi3-manylinux_2_17_x86_64.manylinux2014_x86_64.whl (1.2 MB)\n",
      "\u001b[2K     \u001b[90m━━━━━━━━━━━━━━━━━━━━━━━━━━━━━━━━━━━━━━━━\u001b[0m \u001b[32m1.2/1.2 MB\u001b[0m \u001b[31m8.0 MB/s\u001b[0m eta \u001b[36m0:00:00\u001b[0m\n",
      "\u001b[?25hInstalling collected packages: whittaker-eilers\n",
      "Successfully installed whittaker-eilers-0.1.3\n"
     ]
    }
   ],
   "source": [
    "!pip install whittaker-eilers\n"
   ]
  },
  {
   "cell_type": "code",
   "execution_count": 60,
   "id": "l3sRo3wVdk3a",
   "metadata": {
    "id": "l3sRo3wVdk3a"
   },
   "outputs": [],
   "source": [
    "from whittaker_eilers import WhittakerSmoother\n",
    "bsgk_smooth = WhittakerSmoother(lmbda=1, order=2, data_length=len(df['call_price_120']))\n",
    "bsgk_smooth_price = bsgk_smooth.smooth(df['call_price_120'])\n",
    "heston_smooth = WhittakerSmoother(lmbda=1, order=2, data_length=len(pay_off['strike @ 120']))\n",
    "heston_smooth_price = heston_smooth.smooth(pay_off['strike @ 120'])"
   ]
  },
  {
   "cell_type": "code",
   "execution_count": null,
   "id": "3CYUcQFHeNJE",
   "metadata": {
    "id": "3CYUcQFHeNJE"
   },
   "outputs": [],
   "source": [
    "#bsgk_smooth_price"
   ]
  },
  {
   "cell_type": "code",
   "execution_count": 61,
   "id": "Zbcd0TxmYjoT",
   "metadata": {
    "id": "Zbcd0TxmYjoT"
   },
   "outputs": [],
   "source": [
    "#pay_off.set_index('Date', inplace=True)\n",
    "#diff = df['call_price_120']- pay_off['strike @ 120']\n",
    "#diff = bsgk_smooth_price- pay_off['strike @ 120']\n",
    "diff = np.array(bsgk_smooth_price) - np.array(heston_smooth_price)\n"
   ]
  },
  {
   "cell_type": "code",
   "execution_count": 62,
   "id": "dH3Yoi6vNppe",
   "metadata": {
    "colab": {
     "base_uri": "https://localhost:8080/",
     "height": 649
    },
    "id": "dH3Yoi6vNppe",
    "outputId": "11d0c5d8-ec88-47a4-fd49-9ef20945670e"
   },
   "outputs": [
    {
     "data": {
      "image/png": "[encoded data removed]",
      "text/plain": [
       "<Figure size 1400x700 with 1 Axes>"
      ]
     },
     "metadata": {},
     "output_type": "display_data"
    }
   ],
   "source": [
    "# Plot historical vs calibrated volatilities\n",
    "plt.figure(figsize=(14, 7))\n",
    "#df['diff'] = df['call_price_120']- pay_off['strike @ 120']\n",
    "plt.plot(pay_off.index, diff , label='Difference between Garman Kohlhagen - Heston Model ', color = 'darkslategrey')\n",
    "plt.xlabel('Date',fontsize=12, fontweight='bold',fontfamily='serif')\n",
    "plt.ylabel('Difference in prices ',fontsize=12, fontweight='bold',fontfamily='serif')\n",
    "plt.title('III. FX Option Price differences: Garman Kohlhagen vs. Heston Model at K=120',fontsize=13, fontweight='bold',fontfamily='serif')\n",
    "\n",
    "# Add legend with fancy box border\n",
    "plt.legend(loc='upper left', fancybox=True, framealpha=1, shadow=True, borderpad=1)\n",
    "\n",
    "# Add grid for better readability\n",
    "plt.grid(True, linestyle='--', linewidth=0.5, color='gray', alpha=0.5)\n",
    "\n",
    "# Customize background color\n",
    "plt.gca().set_facecolor('#f7f7f7')\n",
    "\n",
    "# Set seaborn style for better aesthetics\n",
    "sns.set(style=\"whitegrid\")\n",
    "\n",
    "# Show plot\n",
    "plt.show()"
   ]
  },
  {
   "cell_type": "code",
   "execution_count": 63,
   "id": "FgPry3qrI8ob",
   "metadata": {
    "id": "FgPry3qrI8ob"
   },
   "outputs": [],
   "source": [
    "risk_free_rates_usd = fx_data['US 1 year'].values\n",
    "risk_free_rates_jpy = fx_data['JPY 1 year'].values\n",
    "risk_free_rate_diff = risk_free_rates_usd - risk_free_rates_jpy\n",
    "fx_data['r_diff']= risk_free_rate_diff"
   ]
  },
  {
   "cell_type": "code",
   "execution_count": 64,
   "id": "A7TYb9_iK4jT",
   "metadata": {
    "colab": {
     "base_uri": "https://localhost:8080/",
     "height": 454
    },
    "id": "A7TYb9_iK4jT",
    "outputId": "1c4cdcef-b2c6-4a71-a1fe-70717673108b"
   },
   "outputs": [
    {
     "data": {
      "text/html": [
       "<div>\n",
       "<style scoped>\n",
       "    .dataframe tbody tr th:only-of-type {\n",
       "        vertical-align: middle;\n",
       "    }\n",
       "\n",
       "    .dataframe tbody tr th {\n",
       "        vertical-align: top;\n",
       "    }\n",
       "\n",
       "    .dataframe thead th {\n",
       "        text-align: right;\n",
       "    }\n",
       "</style>\n",
       "<table border=\"1\" class=\"dataframe\">\n",
       "  <thead>\n",
       "    <tr style=\"text-align: right;\">\n",
       "      <th></th>\n",
       "      <th>DEXJPUS</th>\n",
       "      <th>Log_Returns</th>\n",
       "      <th>Historical_Vol</th>\n",
       "      <th>US 1 year</th>\n",
       "      <th>JPY 1 year</th>\n",
       "      <th>r_diff</th>\n",
       "    </tr>\n",
       "    <tr>\n",
       "      <th>Date</th>\n",
       "      <th></th>\n",
       "      <th></th>\n",
       "      <th></th>\n",
       "      <th></th>\n",
       "      <th></th>\n",
       "      <th></th>\n",
       "    </tr>\n",
       "  </thead>\n",
       "  <tbody>\n",
       "    <tr>\n",
       "      <th>2019-01-04</th>\n",
       "      <td>108.29</td>\n",
       "      <td>0.002034</td>\n",
       "      <td>0.053414</td>\n",
       "      <td>0.02570</td>\n",
       "      <td>-0.00173</td>\n",
       "      <td>0.02743</td>\n",
       "    </tr>\n",
       "    <tr>\n",
       "      <th>2019-01-07</th>\n",
       "      <td>108.62</td>\n",
       "      <td>0.003043</td>\n",
       "      <td>0.053559</td>\n",
       "      <td>0.02580</td>\n",
       "      <td>-0.00162</td>\n",
       "      <td>0.02742</td>\n",
       "    </tr>\n",
       "    <tr>\n",
       "      <th>2019-01-08</th>\n",
       "      <td>108.57</td>\n",
       "      <td>-0.000460</td>\n",
       "      <td>0.053415</td>\n",
       "      <td>0.02600</td>\n",
       "      <td>-0.00146</td>\n",
       "      <td>0.02746</td>\n",
       "    </tr>\n",
       "    <tr>\n",
       "      <th>2019-01-09</th>\n",
       "      <td>108.38</td>\n",
       "      <td>-0.001752</td>\n",
       "      <td>0.053462</td>\n",
       "      <td>0.02590</td>\n",
       "      <td>-0.00144</td>\n",
       "      <td>0.02734</td>\n",
       "    </tr>\n",
       "    <tr>\n",
       "      <th>2019-01-10</th>\n",
       "      <td>108.29</td>\n",
       "      <td>-0.000831</td>\n",
       "      <td>0.052774</td>\n",
       "      <td>0.02590</td>\n",
       "      <td>-0.00147</td>\n",
       "      <td>0.02737</td>\n",
       "    </tr>\n",
       "    <tr>\n",
       "      <th>...</th>\n",
       "      <td>...</td>\n",
       "      <td>...</td>\n",
       "      <td>...</td>\n",
       "      <td>...</td>\n",
       "      <td>...</td>\n",
       "      <td>...</td>\n",
       "    </tr>\n",
       "    <tr>\n",
       "      <th>2024-03-25</th>\n",
       "      <td>151.42</td>\n",
       "      <td>0.000462</td>\n",
       "      <td>0.100431</td>\n",
       "      <td>0.05000</td>\n",
       "      <td>0.00063</td>\n",
       "      <td>0.04937</td>\n",
       "    </tr>\n",
       "    <tr>\n",
       "      <th>2024-03-26</th>\n",
       "      <td>151.58</td>\n",
       "      <td>0.001056</td>\n",
       "      <td>0.100328</td>\n",
       "      <td>0.05000</td>\n",
       "      <td>0.00063</td>\n",
       "      <td>0.04937</td>\n",
       "    </tr>\n",
       "    <tr>\n",
       "      <th>2024-03-27</th>\n",
       "      <td>151.35</td>\n",
       "      <td>-0.001519</td>\n",
       "      <td>0.098375</td>\n",
       "      <td>0.04990</td>\n",
       "      <td>0.00055</td>\n",
       "      <td>0.04935</td>\n",
       "    </tr>\n",
       "    <tr>\n",
       "      <th>2024-03-28</th>\n",
       "      <td>151.35</td>\n",
       "      <td>0.000000</td>\n",
       "      <td>0.098372</td>\n",
       "      <td>0.05030</td>\n",
       "      <td>0.00054</td>\n",
       "      <td>0.04976</td>\n",
       "    </tr>\n",
       "    <tr>\n",
       "      <th>2024-03-29</th>\n",
       "      <td>151.22</td>\n",
       "      <td>-0.000859</td>\n",
       "      <td>0.098383</td>\n",
       "      <td>0.05045</td>\n",
       "      <td>0.00054</td>\n",
       "      <td>0.04991</td>\n",
       "    </tr>\n",
       "  </tbody>\n",
       "</table>\n",
       "<p>1277 rows × 6 columns</p>\n",
       "</div>"
      ],
      "text/plain": [
       "            DEXJPUS  Log_Returns  Historical_Vol  US 1 year  JPY 1 year  \\\n",
       "Date                                                                      \n",
       "2019-01-04   108.29     0.002034        0.053414    0.02570    -0.00173   \n",
       "2019-01-07   108.62     0.003043        0.053559    0.02580    -0.00162   \n",
       "2019-01-08   108.57    -0.000460        0.053415    0.02600    -0.00146   \n",
       "2019-01-09   108.38    -0.001752        0.053462    0.02590    -0.00144   \n",
       "2019-01-10   108.29    -0.000831        0.052774    0.02590    -0.00147   \n",
       "...             ...          ...             ...        ...         ...   \n",
       "2024-03-25   151.42     0.000462        0.100431    0.05000     0.00063   \n",
       "2024-03-26   151.58     0.001056        0.100328    0.05000     0.00063   \n",
       "2024-03-27   151.35    -0.001519        0.098375    0.04990     0.00055   \n",
       "2024-03-28   151.35     0.000000        0.098372    0.05030     0.00054   \n",
       "2024-03-29   151.22    -0.000859        0.098383    0.05045     0.00054   \n",
       "\n",
       "             r_diff  \n",
       "Date                 \n",
       "2019-01-04  0.02743  \n",
       "2019-01-07  0.02742  \n",
       "2019-01-08  0.02746  \n",
       "2019-01-09  0.02734  \n",
       "2019-01-10  0.02737  \n",
       "...             ...  \n",
       "2024-03-25  0.04937  \n",
       "2024-03-26  0.04937  \n",
       "2024-03-27  0.04935  \n",
       "2024-03-28  0.04976  \n",
       "2024-03-29  0.04991  \n",
       "\n",
       "[1277 rows x 6 columns]"
      ]
     },
     "execution_count": 64,
     "metadata": {},
     "output_type": "execute_result"
    }
   ],
   "source": [
    "fx_data"
   ]
  }
 ],
 "metadata": {
  "colab": {
   "collapsed_sections": [
    "Jj1bXAH5N4O1"
   ],
   "provenance": []
  },
  "kernelspec": {
   "display_name": "Python 3 (ipykernel)",
   "language": "python",
   "name": "python3"
  },
  "language_info": {
   "codemirror_mode": {
    "name": "ipython",
    "version": 3
   },
   "file_extension": ".py",
   "mimetype": "text/x-python",
   "name": "python",
   "nbconvert_exporter": "python",
   "pygments_lexer": "ipython3",
   "version": "3.11.4"
  }
 },
 "nbformat": 4,
 "nbformat_minor": 5
}
